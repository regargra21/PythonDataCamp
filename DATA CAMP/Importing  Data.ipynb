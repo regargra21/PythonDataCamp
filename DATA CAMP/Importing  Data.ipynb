{
 "cells": [
  {
   "cell_type": "markdown",
   "metadata": {},
   "source": [
    "# Import data\n",
    "\n",
    "- Flat files\n",
    "  * txt\n",
    "  * csvs\n",
    "- Files from other software\n",
    "  * excel spredsheet\n",
    "  * Stata\n",
    "  * SAS \n",
    "  * MATLAB files\n",
    "- Relational databases\n",
    "  * SQLite\n",
    "  * PostgreSQL\n",
    "  \n",
    "Basic Text Files:\n",
    " - Containing plain text\n",
    " - Containing records - table data\n",
    " \n",
    "## READ A FILE"
   ]
  },
  {
   "cell_type": "code",
   "execution_count": 3,
   "metadata": {},
   "outputs": [],
   "source": [
    "filename = 'huck_finn.txt'\n",
    "file = open(filename, mode='r') # 'r ' is to read\n",
    "text = file.read()"
   ]
  },
  {
   "cell_type": "markdown",
   "metadata": {},
   "source": [
    "After you do this, make sure that you clsoe the connection to the file by using:"
   ]
  },
  {
   "cell_type": "code",
   "execution_count": 4,
   "metadata": {},
   "outputs": [],
   "source": [
    "file.close()"
   ]
  },
  {
   "cell_type": "code",
   "execution_count": 5,
   "metadata": {},
   "outputs": [
    {
     "name": "stdout",
     "output_type": "stream",
     "text": [
      "YOU don't know about me without you have read a book by\n",
      "the name of The Adventures of Tom Sawyer; but that \n",
      "ain't no mmater. That book was made by Mr. Mark Twain,\n",
      "and he told the truth, mainly. There was things which\n",
      "he stretched, but mainly he told the truth. That is \n",
      "nothing. never seen anybody but lied one time or \n",
      "another, without it was Aunt Polly, or the window, or\n",
      "maybe Mary. Aunt Polly--Tom's Aunt Polly, she is--and\n",
      "Mary, and the Widow Douglas is all told about in that\n",
      "book, which is mostly a true book, with some\n",
      "stretchers, as I said before.\n"
     ]
    }
   ],
   "source": [
    "print(text)"
   ]
  },
  {
   "cell_type": "markdown",
   "metadata": {},
   "source": [
    "## WRITTING A FILE"
   ]
  },
  {
   "cell_type": "code",
   "execution_count": 6,
   "metadata": {},
   "outputs": [],
   "source": [
    "filename = 'huck_finn.txt'\n",
    "file = open(filename, mode='w') # 'w' is to write\n",
    "file.close()"
   ]
  },
  {
   "cell_type": "markdown",
   "metadata": {},
   "source": [
    "To avoid having to close the connection to the file, you use a **with** statement, which allows you to create a context in which you can execute commands with the file open. \n",
    "\n",
    "Once out of this **clause/context**, the file is no longer open and, for this reason, with is called a **Context Manager**."
   ]
  },
  {
   "cell_type": "code",
   "execution_count": 7,
   "metadata": {},
   "outputs": [
    {
     "name": "stdout",
     "output_type": "stream",
     "text": [
      "\n"
     ]
    }
   ],
   "source": [
    "with open('huck_finn.txt', 'r') as file:\n",
    "    print(file.read())"
   ]
  },
  {
   "cell_type": "markdown",
   "metadata": {},
   "source": [
    "What you're doing here is called *'binding'* a variable in the context manager construct; while still within this construct, the variable file will be bound to \n",
    "\n",
    "**open(filename, 'r')**"
   ]
  },
  {
   "cell_type": "markdown",
   "metadata": {},
   "source": [
    "IPython, which is running on DataCamp's servers, has a bunch of cool commands, including its magic commands. For example, starting a line with **!** gives you complete system shell access. This means that the IPython magic command *!* ls will display the contents of your current directory"
   ]
  },
  {
   "cell_type": "code",
   "execution_count": 9,
   "metadata": {},
   "outputs": [
    {
     "name": "stdout",
     "output_type": "stream",
     "text": [
      "CHAPTER 1. Loomings.\n",
      "\n",
      "Call me Ishmael. Some years ago--never mind how long precisely--having\n",
      "little or no money in my purse, and nothing particular to interest me on\n",
      "shore, I thought I would sail about a little and see the watery part of\n",
      "the world. It is a way I have of driving off the spleen and regulating\n",
      "the circulation. Whenever I find myself growing grim about the mouth;\n",
      "whenever it is a damp, drizzly November in my soul; whenever I find\n",
      "myself involuntarily pausing before coffin warehouses, and bringing up\n",
      "the rear of every funeral I meet; and especially whenever my hypos get\n",
      "such an upper hand of me, that it requires a strong moral principle to\n",
      "prevent me from deliberately stepping into the street, and methodically\n",
      "knocking people's hats off--then, I account it high time to get to sea\n",
      "as soon as I can. This is my substitute for pistol and ball. With a\n",
      "philosophical flourish Cato throws himself upon his sword; I quietly\n",
      "take to the ship. There is nothing surprising in this. If they but knew\n",
      "it, almost all men in their degree, some time or other, cherish very\n",
      "nearly the same feelings towards the ocean with me.\n"
     ]
    }
   ],
   "source": [
    "# Open a file: file\n",
    "file = open('moby_dick.txt', 'r')\n",
    "\n",
    "# Print it\n",
    "print(file.read())"
   ]
  },
  {
   "cell_type": "code",
   "execution_count": 10,
   "metadata": {},
   "outputs": [
    {
     "name": "stdout",
     "output_type": "stream",
     "text": [
      "False\n",
      "True\n"
     ]
    }
   ],
   "source": [
    "# Check whether file is closed\n",
    "print(file.closed)\n",
    "\n",
    "# Close file\n",
    "file.close()\n",
    "\n",
    "# Check whether file is closed\n",
    "print(file.closed)"
   ]
  },
  {
   "cell_type": "markdown",
   "metadata": {},
   "source": [
    "For large files, we may not want to print all of their content to the shell: you may wish to print only the first few lines. Enter the **readline()** method, which allows you to do this. "
   ]
  },
  {
   "cell_type": "code",
   "execution_count": 11,
   "metadata": {},
   "outputs": [
    {
     "name": "stdout",
     "output_type": "stream",
     "text": [
      "CHAPTER 1. Loomings.\n",
      "\n",
      "\n",
      "\n",
      "Call me Ishmael. Some years ago--never mind how long precisely--having\n",
      "\n"
     ]
    }
   ],
   "source": [
    "with open('moby_dick.txt') as file:\n",
    "    print(file.readline())\n",
    "    print(file.readline())\n",
    "    print(file.readline())"
   ]
  },
  {
   "cell_type": "markdown",
   "metadata": {},
   "source": [
    "# The importance of flat files in data science\n",
    "\n",
    "**FLAT FILES** = a basic text files containing records\n",
    "  - Table Data, without structured relationships\n",
    "  - Record: row of fields or attributes, each of which contains at most one item of information\n",
    "  \n",
    "This is in contrast to a relational database, for example, in which columns of distinct tables can be related.\n",
    "\n",
    "**-CSV** = an acronym for *comma separated value* \n",
    "\n",
    "### How do you import flat files?\n",
    "\n",
    "If they consist entirely of numbers and we want to store them as a numpy array, we could use numpy. \n",
    "If we want to store the data in a dataframe, we could use pandas.\n",
    "\n",
    "\n",
    "## Why we like flat files and the Zen o Python\n",
    "\n",
    "In PythonLand, there are currently hundreds of Python Enhancement Proposals, commonly referred to as PEPs. \n",
    "\n",
    "PEP8, for example, is a standard style guide for Python, written by our sensei Guido van Rossum himself. \n",
    "\n",
    "It is the basis for how we here at DataCamp ask our instructors to style their code."
   ]
  },
  {
   "cell_type": "code",
   "execution_count": 12,
   "metadata": {},
   "outputs": [
    {
     "name": "stdout",
     "output_type": "stream",
     "text": [
      "The Zen of Python, by Tim Peters\n",
      "\n",
      "Beautiful is better than ugly.\n",
      "Explicit is better than implicit.\n",
      "Simple is better than complex.\n",
      "Complex is better than complicated.\n",
      "Flat is better than nested.\n",
      "Sparse is better than dense.\n",
      "Readability counts.\n",
      "Special cases aren't special enough to break the rules.\n",
      "Although practicality beats purity.\n",
      "Errors should never pass silently.\n",
      "Unless explicitly silenced.\n",
      "In the face of ambiguity, refuse the temptation to guess.\n",
      "There should be one-- and preferably only one --obvious way to do it.\n",
      "Although that way may not be obvious at first unless you're Dutch.\n",
      "Now is better than never.\n",
      "Although never is often better than *right* now.\n",
      "If the implementation is hard to explain, it's a bad idea.\n",
      "If the implementation is easy to explain, it may be a good idea.\n",
      "Namespaces are one honking great idea -- let's do more of those!\n"
     ]
    }
   ],
   "source": [
    "import this"
   ]
  },
  {
   "cell_type": "markdown",
   "metadata": {},
   "source": [
    "## Importing flat files using NumPy\n",
    "\n",
    "If all the data are numerical, you can use the package NumPY to import the data as a numpy array.\n",
    "\n",
    "1. Numpy arrays are the Python standard for storing numerical data.\n",
    "2. Numpy arrays are often essential for other packages, such as Scikit-Learn"
   ]
  },
  {
   "cell_type": "code",
   "execution_count": 2,
   "metadata": {},
   "outputs": [],
   "source": [
    "import numpy as np \n",
    "\n",
    "filename = 'MNIST_head.txt'\n",
    "\n",
    "data = np.loadtxt(filename, delimiter = ',')"
   ]
  },
  {
   "cell_type": "code",
   "execution_count": 25,
   "metadata": {},
   "outputs": [
    {
     "name": "stdout",
     "output_type": "stream",
     "text": [
      "[[0. 0. 0. ... 0. 0. 0.]\n",
      " [1. 0. 0. ... 0. 0. 0.]\n",
      " [4. 0. 0. ... 0. 0. 0.]\n",
      " ...\n",
      " [2. 0. 0. ... 0. 0. 0.]\n",
      " [0. 0. 0. ... 0. 0. 0.]\n",
      " [5. 0. 0. ... 0. 0. 0.]]\n"
     ]
    }
   ],
   "source": [
    "data = np.loadtxt(filename, delimiter = ',', skiprows=1)\n",
    "print(data)"
   ]
  },
  {
   "cell_type": "code",
   "execution_count": 26,
   "metadata": {},
   "outputs": [
    {
     "name": "stdout",
     "output_type": "stream",
     "text": [
      "[[0. 0.]\n",
      " [1. 0.]\n",
      " [4. 0.]\n",
      " [0. 0.]\n",
      " [0. 0.]\n",
      " [7. 0.]\n",
      " [3. 0.]\n",
      " [5. 0.]\n",
      " [3. 0.]\n",
      " [8. 0.]\n",
      " [9. 0.]\n",
      " [1. 0.]\n",
      " [3. 0.]\n",
      " [3. 0.]\n",
      " [1. 0.]\n",
      " [2. 0.]\n",
      " [0. 0.]\n",
      " [7. 0.]\n",
      " [5. 0.]\n",
      " [8. 0.]\n",
      " [6. 0.]\n",
      " [2. 0.]\n",
      " [0. 0.]\n",
      " [2. 0.]\n",
      " [3. 0.]\n",
      " [6. 0.]\n",
      " [9. 0.]\n",
      " [9. 0.]\n",
      " [7. 0.]\n",
      " [8. 0.]\n",
      " [9. 0.]\n",
      " [4. 0.]\n",
      " [9. 0.]\n",
      " [2. 0.]\n",
      " [1. 0.]\n",
      " [3. 0.]\n",
      " [1. 0.]\n",
      " [1. 0.]\n",
      " [4. 0.]\n",
      " [9. 0.]\n",
      " [1. 0.]\n",
      " [4. 0.]\n",
      " [4. 0.]\n",
      " [2. 0.]\n",
      " [6. 0.]\n",
      " [3. 0.]\n",
      " [7. 0.]\n",
      " [7. 0.]\n",
      " [4. 0.]\n",
      " [7. 0.]\n",
      " [5. 0.]\n",
      " [1. 0.]\n",
      " [9. 0.]\n",
      " [0. 0.]\n",
      " [2. 0.]\n",
      " [2. 0.]\n",
      " [3. 0.]\n",
      " [9. 0.]\n",
      " [1. 0.]\n",
      " [1. 0.]\n",
      " [1. 0.]\n",
      " [5. 0.]\n",
      " [0. 0.]\n",
      " [6. 0.]\n",
      " [3. 0.]\n",
      " [4. 0.]\n",
      " [8. 0.]\n",
      " [1. 0.]\n",
      " [0. 0.]\n",
      " [3. 0.]\n",
      " [9. 0.]\n",
      " [6. 0.]\n",
      " [2. 0.]\n",
      " [6. 0.]\n",
      " [4. 0.]\n",
      " [7. 0.]\n",
      " [1. 0.]\n",
      " [4. 0.]\n",
      " [1. 0.]\n",
      " [5. 0.]\n",
      " [4. 0.]\n",
      " [8. 0.]\n",
      " [9. 0.]\n",
      " [2. 0.]\n",
      " [9. 0.]\n",
      " [9. 0.]\n",
      " [8. 0.]\n",
      " [9. 0.]\n",
      " [6. 0.]\n",
      " [3. 0.]\n",
      " [6. 0.]\n",
      " [4. 0.]\n",
      " [6. 0.]\n",
      " [2. 0.]\n",
      " [9. 0.]\n",
      " [1. 0.]\n",
      " [2. 0.]\n",
      " [0. 0.]\n",
      " [5. 0.]]\n"
     ]
    }
   ],
   "source": [
    "data = np.loadtxt(filename, delimiter = ',', skiprows=1, usecols=[0,2])\n",
    "\n",
    "print(data)"
   ]
  },
  {
   "cell_type": "markdown",
   "metadata": {},
   "source": [
    "When you have columns consisting of floats AND columns consisting of strings, such as we saw in the Titanic dataset; the NumPy import may not be the best option."
   ]
  },
  {
   "cell_type": "markdown",
   "metadata": {},
   "source": [
    "You're now going to load the MNIST digit recognition dataset using the numpy function loadtxt() and see just how easy it can be:\n",
    "\n",
    "The first argument will be the filename. The second will be the delimiter which, in this case, is a comma.\n",
    "\n",
    "You can find more information about the **MNIST dataset** on the webpage of **Yann LeCun**, who is currently Director of AI Research at Facebook and Founding Director of the NYU Center for Data Science, among many other things."
   ]
  },
  {
   "cell_type": "code",
   "execution_count": 30,
   "metadata": {},
   "outputs": [
    {
     "name": "stdout",
     "output_type": "stream",
     "text": [
      "<class 'numpy.ndarray'>\n"
     ]
    },
    {
     "data": {
      "image/png": "[encoded data removed]",
      "text/plain": [
       "<Figure size 432x288 with 1 Axes>"
      ]
     },
     "metadata": {
      "needs_background": "light"
     },
     "output_type": "display_data"
    }
   ],
   "source": [
    "# Import package\n",
    "import numpy as np\n",
    "import matplotlib.pyplot as plt\n",
    "%matplotlib inline\n",
    "\n",
    "# Assign filename to variable: file\n",
    "file = 'MNIST_head.txt'\n",
    "\n",
    "# Load file as array: digits\n",
    "digits = np.loadtxt(file, delimiter=',')\n",
    "\n",
    "# Print datatype of digits\n",
    "print(type(digits))\n",
    "\n",
    "# Select and reshape a row\n",
    "im = digits[21, 1:]\n",
    "im_sq = np.reshape(im, (28, 28))\n",
    "\n",
    "# Plot reshaped data (matplotlib.pyplot already loaded as plt)\n",
    "plt.imshow(im_sq, cmap='Greys', interpolation='nearest')\n",
    "plt.show()\n"
   ]
  },
  {
   "cell_type": "markdown",
   "metadata": {},
   "source": [
    "There are a number of arguments that np.loadtxt() takes that you'll find useful:\n",
    " - Delimiter changes the delimiter that loadtxt() is expecting.\n",
    "   * You can use ',' for comma-delimited.\n",
    "   * You can use '\\t' for tab-delimited.\n",
    " - Skiprows allows you to specify how many rows (not indices) you wish to skip\n",
    "   * usecols takes a list of the indices of the columns you wish to keep."
   ]
  },
  {
   "cell_type": "code",
   "execution_count": 32,
   "metadata": {},
   "outputs": [
    {
     "name": "stdout",
     "output_type": "stream",
     "text": [
      "[[0. 0.]\n",
      " [1. 0.]\n",
      " [4. 0.]\n",
      " [0. 0.]\n",
      " [0. 0.]\n",
      " [7. 0.]\n",
      " [3. 0.]\n",
      " [5. 0.]\n",
      " [3. 0.]\n",
      " [8. 0.]\n",
      " [9. 0.]\n",
      " [1. 0.]\n",
      " [3. 0.]\n",
      " [3. 0.]\n",
      " [1. 0.]\n",
      " [2. 0.]\n",
      " [0. 0.]\n",
      " [7. 0.]\n",
      " [5. 0.]\n",
      " [8. 0.]\n",
      " [6. 0.]\n",
      " [2. 0.]\n",
      " [0. 0.]\n",
      " [2. 0.]\n",
      " [3. 0.]\n",
      " [6. 0.]\n",
      " [9. 0.]\n",
      " [9. 0.]\n",
      " [7. 0.]\n",
      " [8. 0.]\n",
      " [9. 0.]\n",
      " [4. 0.]\n",
      " [9. 0.]\n",
      " [2. 0.]\n",
      " [1. 0.]\n",
      " [3. 0.]\n",
      " [1. 0.]\n",
      " [1. 0.]\n",
      " [4. 0.]\n",
      " [9. 0.]\n",
      " [1. 0.]\n",
      " [4. 0.]\n",
      " [4. 0.]\n",
      " [2. 0.]\n",
      " [6. 0.]\n",
      " [3. 0.]\n",
      " [7. 0.]\n",
      " [7. 0.]\n",
      " [4. 0.]\n",
      " [7. 0.]\n",
      " [5. 0.]\n",
      " [1. 0.]\n",
      " [9. 0.]\n",
      " [0. 0.]\n",
      " [2. 0.]\n",
      " [2. 0.]\n",
      " [3. 0.]\n",
      " [9. 0.]\n",
      " [1. 0.]\n",
      " [1. 0.]\n",
      " [1. 0.]\n",
      " [5. 0.]\n",
      " [0. 0.]\n",
      " [6. 0.]\n",
      " [3. 0.]\n",
      " [4. 0.]\n",
      " [8. 0.]\n",
      " [1. 0.]\n",
      " [0. 0.]\n",
      " [3. 0.]\n",
      " [9. 0.]\n",
      " [6. 0.]\n",
      " [2. 0.]\n",
      " [6. 0.]\n",
      " [4. 0.]\n",
      " [7. 0.]\n",
      " [1. 0.]\n",
      " [4. 0.]\n",
      " [1. 0.]\n",
      " [5. 0.]\n",
      " [4. 0.]\n",
      " [8. 0.]\n",
      " [9. 0.]\n",
      " [2. 0.]\n",
      " [9. 0.]\n",
      " [9. 0.]\n",
      " [8. 0.]\n",
      " [9. 0.]\n",
      " [6. 0.]\n",
      " [3. 0.]\n",
      " [6. 0.]\n",
      " [4. 0.]\n",
      " [6. 0.]\n",
      " [2. 0.]\n",
      " [9. 0.]\n",
      " [1. 0.]\n",
      " [2. 0.]\n",
      " [0. 0.]\n",
      " [5. 0.]]\n"
     ]
    }
   ],
   "source": [
    "# Import numpy\n",
    "import numpy as np\n",
    "\n",
    "# Assign the filename: file\n",
    "file = 'MNIST_head.txt'\n",
    "\n",
    "# Load the data: data\n",
    "data = np.loadtxt(file, delimiter=',', skiprows=1, usecols=[0,3])\n",
    "\n",
    "# Print data\n",
    "print(data)"
   ]
  },
  {
   "cell_type": "markdown",
   "metadata": {},
   "source": [
    "The file seaslug.txt\n",
    "\n",
    "* has a text header, consisting of strings\n",
    "* is tab-delimited.\n",
    "\n",
    "These data consists of percentage of sea slug larvae that had metamorphosed in a given time period"
   ]
  },
  {
   "cell_type": "code",
   "execution_count": 33,
   "metadata": {},
   "outputs": [
    {
     "name": "stdout",
     "output_type": "stream",
     "text": [
      "['99' '.067']\n",
      "[0.    0.533]\n"
     ]
    },
    {
     "data": {
      "image/png": "[encoded data removed]",
      "text/plain": [
       "<Figure size 432x288 with 1 Axes>"
      ]
     },
     "metadata": {
      "needs_background": "light"
     },
     "output_type": "display_data"
    }
   ],
   "source": [
    "# Assign filename: file\n",
    "file = 'seaslug.txt'\n",
    "\n",
    "# Import file: data\n",
    "data = np.loadtxt(file, delimiter='\\t', dtype=str)\n",
    "\n",
    "# Print the first element of data\n",
    "print(data[0])\n",
    "\n",
    "# Import data as floats and skip the first row: data_float\n",
    "data_float = np.loadtxt(file, delimiter='\\t', dtype=float, skiprows=1)\n",
    "\n",
    "# Print the 10th element of data_float\n",
    "print(data_float[9])\n",
    "\n",
    "# Plot a scatterplot of the data\n",
    "plt.scatter(data_float[:, 0], data_float[:, 1])\n",
    "plt.xlabel('time (min.)')\n",
    "plt.ylabel('percentage of larvae')\n",
    "plt.show()\n"
   ]
  },
  {
   "cell_type": "markdown",
   "metadata": {},
   "source": [
    "### Mixed datatypes\n",
    "\n",
    "Much of the time you will need to import datasets which have different datatypes in different columns; one column may contain strings and another floats.\n",
    "\n",
    "The function **np.loadtxt()** will freak at this. There is another function, **np.genfromtxt()**, which can handle such structures. \n",
    "\n",
    "If we pass *dtype=None* to it, it will figure out what types each column should be."
   ]
  },
  {
   "cell_type": "code",
   "execution_count": 35,
   "metadata": {},
   "outputs": [],
   "source": [
    "data = np.genfromtxt('MNIST_head.txt', delimiter=',', names=True, dtype=None)"
   ]
  },
  {
   "cell_type": "markdown",
   "metadata": {},
   "source": [
    "There is also another function **np.recfromcsv()** that behaves similarly to **np.genfromtxt()**, except that its default dtype is *None*."
   ]
  },
  {
   "cell_type": "code",
   "execution_count": 8,
   "metadata": {},
   "outputs": [
    {
     "ename": "ValueError",
     "evalue": "Some errors were detected !\n    Line #2 (got 12 columns instead of 11)\n    Line #3 (got 12 columns instead of 11)\n    Line #4 (got 12 columns instead of 11)\n    Line #5 (got 12 columns instead of 11)\n    Line #6 (got 12 columns instead of 11)\n    Line #7 (got 12 columns instead of 11)\n    Line #8 (got 12 columns instead of 11)\n    Line #9 (got 12 columns instead of 11)\n    Line #10 (got 12 columns instead of 11)\n    Line #11 (got 12 columns instead of 11)\n    Line #12 (got 12 columns instead of 11)\n    Line #13 (got 12 columns instead of 11)\n    Line #14 (got 12 columns instead of 11)\n    Line #15 (got 12 columns instead of 11)\n    Line #16 (got 12 columns instead of 11)\n    Line #17 (got 12 columns instead of 11)\n    Line #18 (got 12 columns instead of 11)\n    Line #19 (got 12 columns instead of 11)\n    Line #20 (got 12 columns instead of 11)\n    Line #21 (got 12 columns instead of 11)\n    Line #22 (got 12 columns instead of 11)\n    Line #23 (got 12 columns instead of 11)\n    Line #24 (got 12 columns instead of 11)\n    Line #25 (got 12 columns instead of 11)\n    Line #26 (got 12 columns instead of 11)\n    Line #27 (got 12 columns instead of 11)\n    Line #28 (got 12 columns instead of 11)\n    Line #29 (got 12 columns instead of 11)\n    Line #30 (got 12 columns instead of 11)\n    Line #31 (got 12 columns instead of 11)\n    Line #32 (got 12 columns instead of 11)\n    Line #33 (got 12 columns instead of 11)\n    Line #34 (got 12 columns instead of 11)\n    Line #35 (got 12 columns instead of 11)\n    Line #36 (got 12 columns instead of 11)\n    Line #37 (got 12 columns instead of 11)\n    Line #38 (got 12 columns instead of 11)\n    Line #39 (got 12 columns instead of 11)\n    Line #40 (got 12 columns instead of 11)\n    Line #41 (got 12 columns instead of 11)\n    Line #42 (got 12 columns instead of 11)\n    Line #43 (got 12 columns instead of 11)\n    Line #44 (got 12 columns instead of 11)\n    Line #45 (got 12 columns instead of 11)\n    Line #46 (got 12 columns instead of 11)\n    Line #47 (got 12 columns instead of 11)\n    Line #48 (got 12 columns instead of 11)\n    Line #49 (got 12 columns instead of 11)\n    Line #50 (got 12 columns instead of 11)\n    Line #51 (got 12 columns instead of 11)\n    Line #52 (got 12 columns instead of 11)\n    Line #53 (got 12 columns instead of 11)\n    Line #54 (got 12 columns instead of 11)\n    Line #55 (got 12 columns instead of 11)\n    Line #56 (got 12 columns instead of 11)\n    Line #57 (got 12 columns instead of 11)\n    Line #58 (got 12 columns instead of 11)\n    Line #59 (got 12 columns instead of 11)\n    Line #60 (got 12 columns instead of 11)\n    Line #61 (got 12 columns instead of 11)\n    Line #62 (got 12 columns instead of 11)\n    Line #63 (got 12 columns instead of 11)\n    Line #64 (got 12 columns instead of 11)\n    Line #65 (got 12 columns instead of 11)\n    Line #66 (got 12 columns instead of 11)\n    Line #67 (got 12 columns instead of 11)\n    Line #68 (got 12 columns instead of 11)\n    Line #69 (got 12 columns instead of 11)\n    Line #70 (got 12 columns instead of 11)\n    Line #71 (got 12 columns instead of 11)\n    Line #72 (got 12 columns instead of 11)\n    Line #73 (got 12 columns instead of 11)\n    Line #74 (got 12 columns instead of 11)\n    Line #75 (got 12 columns instead of 11)\n    Line #76 (got 12 columns instead of 11)\n    Line #77 (got 12 columns instead of 11)\n    Line #78 (got 12 columns instead of 11)\n    Line #79 (got 12 columns instead of 11)\n    Line #80 (got 12 columns instead of 11)\n    Line #81 (got 12 columns instead of 11)\n    Line #82 (got 12 columns instead of 11)\n    Line #83 (got 12 columns instead of 11)\n    Line #84 (got 12 columns instead of 11)\n    Line #85 (got 12 columns instead of 11)\n    Line #86 (got 12 columns instead of 11)\n    Line #87 (got 12 columns instead of 11)\n    Line #88 (got 12 columns instead of 11)\n    Line #89 (got 12 columns instead of 11)\n    Line #90 (got 12 columns instead of 11)\n    Line #91 (got 12 columns instead of 11)\n    Line #92 (got 12 columns instead of 11)\n    Line #93 (got 12 columns instead of 11)\n    Line #94 (got 12 columns instead of 11)\n    Line #95 (got 12 columns instead of 11)\n    Line #96 (got 12 columns instead of 11)\n    Line #97 (got 12 columns instead of 11)\n    Line #98 (got 12 columns instead of 11)\n    Line #99 (got 12 columns instead of 11)\n    Line #100 (got 12 columns instead of 11)\n    Line #101 (got 12 columns instead of 11)\n    Line #102 (got 12 columns instead of 11)\n    Line #103 (got 12 columns instead of 11)\n    Line #104 (got 12 columns instead of 11)\n    Line #105 (got 12 columns instead of 11)\n    Line #106 (got 12 columns instead of 11)\n    Line #107 (got 12 columns instead of 11)\n    Line #108 (got 12 columns instead of 11)\n    Line #109 (got 12 columns instead of 11)\n    Line #110 (got 12 columns instead of 11)\n    Line #111 (got 12 columns instead of 11)\n    Line #112 (got 12 columns instead of 11)\n    Line #113 (got 12 columns instead of 11)\n    Line #114 (got 12 columns instead of 11)\n    Line #115 (got 12 columns instead of 11)\n    Line #116 (got 12 columns instead of 11)\n    Line #117 (got 12 columns instead of 11)\n    Line #118 (got 12 columns instead of 11)\n    Line #119 (got 12 columns instead of 11)\n    Line #120 (got 12 columns instead of 11)\n    Line #121 (got 12 columns instead of 11)\n    Line #122 (got 12 columns instead of 11)\n    Line #123 (got 12 columns instead of 11)\n    Line #124 (got 12 columns instead of 11)\n    Line #125 (got 12 columns instead of 11)\n    Line #126 (got 12 columns instead of 11)\n    Line #127 (got 12 columns instead of 11)\n    Line #128 (got 12 columns instead of 11)\n    Line #129 (got 12 columns instead of 11)\n    Line #130 (got 12 columns instead of 11)\n    Line #131 (got 12 columns instead of 11)\n    Line #132 (got 12 columns instead of 11)\n    Line #133 (got 12 columns instead of 11)\n    Line #134 (got 12 columns instead of 11)\n    Line #135 (got 12 columns instead of 11)\n    Line #136 (got 12 columns instead of 11)\n    Line #137 (got 12 columns instead of 11)\n    Line #138 (got 12 columns instead of 11)\n    Line #139 (got 12 columns instead of 11)\n    Line #140 (got 12 columns instead of 11)\n    Line #141 (got 12 columns instead of 11)\n    Line #142 (got 12 columns instead of 11)\n    Line #143 (got 12 columns instead of 11)\n    Line #144 (got 12 columns instead of 11)\n    Line #145 (got 12 columns instead of 11)\n    Line #146 (got 12 columns instead of 11)\n    Line #147 (got 12 columns instead of 11)\n    Line #148 (got 12 columns instead of 11)\n    Line #149 (got 12 columns instead of 11)\n    Line #150 (got 12 columns instead of 11)\n    Line #151 (got 12 columns instead of 11)\n    Line #152 (got 12 columns instead of 11)\n    Line #153 (got 12 columns instead of 11)\n    Line #154 (got 12 columns instead of 11)\n    Line #155 (got 12 columns instead of 11)\n    Line #156 (got 12 columns instead of 11)\n    Line #157 (got 12 columns instead of 11)\n    Line #158 (got 12 columns instead of 11)\n    Line #159 (got 12 columns instead of 11)\n    Line #160 (got 12 columns instead of 11)\n    Line #161 (got 12 columns instead of 11)\n    Line #162 (got 12 columns instead of 11)\n    Line #163 (got 12 columns instead of 11)\n    Line #164 (got 12 columns instead of 11)\n    Line #165 (got 12 columns instead of 11)\n    Line #166 (got 12 columns instead of 11)\n    Line #167 (got 12 columns instead of 11)\n    Line #168 (got 12 columns instead of 11)\n    Line #169 (got 12 columns instead of 11)\n    Line #170 (got 12 columns instead of 11)\n    Line #171 (got 12 columns instead of 11)\n    Line #172 (got 12 columns instead of 11)\n    Line #173 (got 12 columns instead of 11)\n    Line #174 (got 12 columns instead of 11)\n    Line #175 (got 12 columns instead of 11)\n    Line #176 (got 12 columns instead of 11)\n    Line #177 (got 12 columns instead of 11)\n    Line #178 (got 12 columns instead of 11)\n    Line #179 (got 12 columns instead of 11)\n    Line #180 (got 12 columns instead of 11)\n    Line #181 (got 12 columns instead of 11)\n    Line #182 (got 12 columns instead of 11)\n    Line #183 (got 12 columns instead of 11)\n    Line #184 (got 12 columns instead of 11)\n    Line #185 (got 12 columns instead of 11)\n    Line #186 (got 12 columns instead of 11)\n    Line #187 (got 12 columns instead of 11)\n    Line #188 (got 12 columns instead of 11)\n    Line #189 (got 12 columns instead of 11)\n    Line #190 (got 12 columns instead of 11)\n    Line #191 (got 12 columns instead of 11)\n    Line #192 (got 12 columns instead of 11)\n    Line #193 (got 12 columns instead of 11)\n    Line #194 (got 12 columns instead of 11)\n    Line #195 (got 12 columns instead of 11)\n    Line #196 (got 12 columns instead of 11)\n    Line #197 (got 12 columns instead of 11)\n    Line #198 (got 12 columns instead of 11)\n    Line #199 (got 12 columns instead of 11)\n    Line #200 (got 12 columns instead of 11)\n    Line #201 (got 12 columns instead of 11)\n    Line #202 (got 12 columns instead of 11)\n    Line #203 (got 12 columns instead of 11)\n    Line #204 (got 12 columns instead of 11)\n    Line #205 (got 12 columns instead of 11)\n    Line #206 (got 12 columns instead of 11)\n    Line #207 (got 12 columns instead of 11)\n    Line #208 (got 12 columns instead of 11)\n    Line #209 (got 12 columns instead of 11)\n    Line #210 (got 12 columns instead of 11)\n    Line #211 (got 12 columns instead of 11)\n    Line #212 (got 12 columns instead of 11)\n    Line #213 (got 12 columns instead of 11)\n    Line #214 (got 12 columns instead of 11)\n    Line #215 (got 12 columns instead of 11)\n    Line #216 (got 12 columns instead of 11)\n    Line #217 (got 12 columns instead of 11)\n    Line #218 (got 12 columns instead of 11)\n    Line #219 (got 12 columns instead of 11)\n    Line #220 (got 12 columns instead of 11)\n    Line #221 (got 12 columns instead of 11)\n    Line #222 (got 12 columns instead of 11)\n    Line #223 (got 12 columns instead of 11)\n    Line #224 (got 12 columns instead of 11)\n    Line #225 (got 12 columns instead of 11)\n    Line #226 (got 12 columns instead of 11)\n    Line #227 (got 12 columns instead of 11)\n    Line #228 (got 12 columns instead of 11)\n    Line #229 (got 12 columns instead of 11)\n    Line #230 (got 12 columns instead of 11)\n    Line #231 (got 12 columns instead of 11)\n    Line #232 (got 12 columns instead of 11)\n    Line #233 (got 12 columns instead of 11)\n    Line #234 (got 12 columns instead of 11)\n    Line #235 (got 12 columns instead of 11)\n    Line #236 (got 12 columns instead of 11)\n    Line #237 (got 12 columns instead of 11)\n    Line #238 (got 12 columns instead of 11)\n    Line #239 (got 12 columns instead of 11)\n    Line #240 (got 12 columns instead of 11)\n    Line #241 (got 12 columns instead of 11)\n    Line #242 (got 12 columns instead of 11)\n    Line #243 (got 12 columns instead of 11)\n    Line #244 (got 12 columns instead of 11)\n    Line #245 (got 12 columns instead of 11)\n    Line #246 (got 12 columns instead of 11)\n    Line #247 (got 12 columns instead of 11)\n    Line #248 (got 12 columns instead of 11)\n    Line #249 (got 12 columns instead of 11)\n    Line #250 (got 12 columns instead of 11)\n    Line #251 (got 12 columns instead of 11)\n    Line #252 (got 12 columns instead of 11)\n    Line #253 (got 12 columns instead of 11)\n    Line #254 (got 12 columns instead of 11)\n    Line #255 (got 12 columns instead of 11)\n    Line #256 (got 12 columns instead of 11)\n    Line #257 (got 12 columns instead of 11)\n    Line #258 (got 12 columns instead of 11)\n    Line #259 (got 12 columns instead of 11)\n    Line #260 (got 12 columns instead of 11)\n    Line #261 (got 12 columns instead of 11)\n    Line #262 (got 12 columns instead of 11)\n    Line #263 (got 12 columns instead of 11)\n    Line #264 (got 12 columns instead of 11)\n    Line #265 (got 12 columns instead of 11)\n    Line #266 (got 12 columns instead of 11)\n    Line #267 (got 12 columns instead of 11)\n    Line #268 (got 12 columns instead of 11)\n    Line #269 (got 12 columns instead of 11)\n    Line #270 (got 12 columns instead of 11)\n    Line #271 (got 12 columns instead of 11)\n    Line #272 (got 12 columns instead of 11)\n    Line #273 (got 12 columns instead of 11)\n    Line #274 (got 12 columns instead of 11)\n    Line #275 (got 12 columns instead of 11)\n    Line #276 (got 12 columns instead of 11)\n    Line #277 (got 12 columns instead of 11)\n    Line #278 (got 12 columns instead of 11)\n    Line #279 (got 12 columns instead of 11)\n    Line #280 (got 12 columns instead of 11)\n    Line #281 (got 12 columns instead of 11)\n    Line #282 (got 12 columns instead of 11)\n    Line #283 (got 12 columns instead of 11)\n    Line #284 (got 12 columns instead of 11)\n    Line #285 (got 12 columns instead of 11)\n    Line #286 (got 12 columns instead of 11)\n    Line #287 (got 12 columns instead of 11)\n    Line #288 (got 12 columns instead of 11)\n    Line #289 (got 12 columns instead of 11)\n    Line #290 (got 12 columns instead of 11)\n    Line #291 (got 12 columns instead of 11)\n    Line #292 (got 12 columns instead of 11)\n    Line #293 (got 12 columns instead of 11)\n    Line #294 (got 12 columns instead of 11)\n    Line #295 (got 12 columns instead of 11)\n    Line #296 (got 12 columns instead of 11)\n    Line #297 (got 12 columns instead of 11)\n    Line #298 (got 12 columns instead of 11)\n    Line #299 (got 12 columns instead of 11)\n    Line #300 (got 12 columns instead of 11)\n    Line #301 (got 12 columns instead of 11)\n    Line #302 (got 12 columns instead of 11)\n    Line #303 (got 12 columns instead of 11)\n    Line #304 (got 12 columns instead of 11)\n    Line #305 (got 12 columns instead of 11)\n    Line #306 (got 12 columns instead of 11)\n    Line #307 (got 12 columns instead of 11)\n    Line #308 (got 12 columns instead of 11)\n    Line #309 (got 12 columns instead of 11)\n    Line #310 (got 12 columns instead of 11)\n    Line #311 (got 12 columns instead of 11)\n    Line #312 (got 12 columns instead of 11)\n    Line #313 (got 12 columns instead of 11)\n    Line #314 (got 12 columns instead of 11)\n    Line #315 (got 12 columns instead of 11)\n    Line #316 (got 12 columns instead of 11)\n    Line #317 (got 12 columns instead of 11)\n    Line #318 (got 12 columns instead of 11)\n    Line #319 (got 12 columns instead of 11)\n    Line #320 (got 12 columns instead of 11)\n    Line #321 (got 12 columns instead of 11)\n    Line #322 (got 12 columns instead of 11)\n    Line #323 (got 12 columns instead of 11)\n    Line #324 (got 12 columns instead of 11)\n    Line #325 (got 12 columns instead of 11)\n    Line #326 (got 12 columns instead of 11)\n    Line #327 (got 12 columns instead of 11)\n    Line #328 (got 12 columns instead of 11)\n    Line #329 (got 12 columns instead of 11)\n    Line #330 (got 12 columns instead of 11)\n    Line #331 (got 12 columns instead of 11)\n    Line #332 (got 12 columns instead of 11)\n    Line #333 (got 12 columns instead of 11)\n    Line #334 (got 12 columns instead of 11)\n    Line #335 (got 12 columns instead of 11)\n    Line #336 (got 12 columns instead of 11)\n    Line #337 (got 12 columns instead of 11)\n    Line #338 (got 12 columns instead of 11)\n    Line #339 (got 12 columns instead of 11)\n    Line #340 (got 12 columns instead of 11)\n    Line #341 (got 12 columns instead of 11)\n    Line #342 (got 12 columns instead of 11)\n    Line #343 (got 12 columns instead of 11)\n    Line #344 (got 12 columns instead of 11)\n    Line #345 (got 12 columns instead of 11)\n    Line #346 (got 12 columns instead of 11)\n    Line #347 (got 12 columns instead of 11)\n    Line #348 (got 12 columns instead of 11)\n    Line #349 (got 12 columns instead of 11)\n    Line #350 (got 12 columns instead of 11)\n    Line #351 (got 12 columns instead of 11)\n    Line #352 (got 12 columns instead of 11)\n    Line #353 (got 12 columns instead of 11)\n    Line #354 (got 12 columns instead of 11)\n    Line #355 (got 12 columns instead of 11)\n    Line #356 (got 12 columns instead of 11)\n    Line #357 (got 12 columns instead of 11)\n    Line #358 (got 12 columns instead of 11)\n    Line #359 (got 12 columns instead of 11)\n    Line #360 (got 12 columns instead of 11)\n    Line #361 (got 12 columns instead of 11)\n    Line #362 (got 12 columns instead of 11)\n    Line #363 (got 12 columns instead of 11)\n    Line #364 (got 12 columns instead of 11)\n    Line #365 (got 12 columns instead of 11)\n    Line #366 (got 12 columns instead of 11)\n    Line #367 (got 12 columns instead of 11)\n    Line #368 (got 12 columns instead of 11)\n    Line #369 (got 12 columns instead of 11)\n    Line #370 (got 12 columns instead of 11)\n    Line #371 (got 12 columns instead of 11)\n    Line #372 (got 12 columns instead of 11)\n    Line #373 (got 12 columns instead of 11)\n    Line #374 (got 12 columns instead of 11)\n    Line #375 (got 12 columns instead of 11)\n    Line #376 (got 12 columns instead of 11)\n    Line #377 (got 12 columns instead of 11)\n    Line #378 (got 12 columns instead of 11)\n    Line #379 (got 12 columns instead of 11)\n    Line #380 (got 12 columns instead of 11)\n    Line #381 (got 12 columns instead of 11)\n    Line #382 (got 12 columns instead of 11)\n    Line #383 (got 12 columns instead of 11)\n    Line #384 (got 12 columns instead of 11)\n    Line #385 (got 12 columns instead of 11)\n    Line #386 (got 12 columns instead of 11)\n    Line #387 (got 12 columns instead of 11)\n    Line #388 (got 12 columns instead of 11)\n    Line #389 (got 12 columns instead of 11)\n    Line #390 (got 12 columns instead of 11)\n    Line #391 (got 12 columns instead of 11)\n    Line #392 (got 12 columns instead of 11)\n    Line #393 (got 12 columns instead of 11)\n    Line #394 (got 12 columns instead of 11)\n    Line #395 (got 12 columns instead of 11)\n    Line #396 (got 12 columns instead of 11)\n    Line #397 (got 12 columns instead of 11)\n    Line #398 (got 12 columns instead of 11)\n    Line #399 (got 12 columns instead of 11)\n    Line #400 (got 12 columns instead of 11)\n    Line #401 (got 12 columns instead of 11)\n    Line #402 (got 12 columns instead of 11)\n    Line #403 (got 12 columns instead of 11)\n    Line #404 (got 12 columns instead of 11)\n    Line #405 (got 12 columns instead of 11)\n    Line #406 (got 12 columns instead of 11)\n    Line #407 (got 12 columns instead of 11)\n    Line #408 (got 12 columns instead of 11)\n    Line #409 (got 12 columns instead of 11)\n    Line #410 (got 12 columns instead of 11)\n    Line #411 (got 12 columns instead of 11)\n    Line #412 (got 12 columns instead of 11)\n    Line #413 (got 12 columns instead of 11)\n    Line #414 (got 12 columns instead of 11)\n    Line #415 (got 12 columns instead of 11)\n    Line #416 (got 12 columns instead of 11)\n    Line #417 (got 12 columns instead of 11)\n    Line #418 (got 12 columns instead of 11)\n    Line #419 (got 12 columns instead of 11)\n    Line #420 (got 12 columns instead of 11)\n    Line #421 (got 12 columns instead of 11)\n    Line #422 (got 12 columns instead of 11)\n    Line #423 (got 12 columns instead of 11)\n    Line #424 (got 12 columns instead of 11)\n    Line #425 (got 12 columns instead of 11)\n    Line #426 (got 12 columns instead of 11)\n    Line #427 (got 12 columns instead of 11)\n    Line #428 (got 12 columns instead of 11)\n    Line #429 (got 12 columns instead of 11)\n    Line #430 (got 12 columns instead of 11)\n    Line #431 (got 12 columns instead of 11)\n    Line #432 (got 12 columns instead of 11)\n    Line #433 (got 12 columns instead of 11)\n    Line #434 (got 12 columns instead of 11)\n    Line #435 (got 12 columns instead of 11)\n    Line #436 (got 12 columns instead of 11)\n    Line #437 (got 12 columns instead of 11)\n    Line #438 (got 12 columns instead of 11)\n    Line #439 (got 12 columns instead of 11)\n    Line #440 (got 12 columns instead of 11)\n    Line #441 (got 12 columns instead of 11)\n    Line #442 (got 12 columns instead of 11)\n    Line #443 (got 12 columns instead of 11)\n    Line #444 (got 12 columns instead of 11)\n    Line #445 (got 12 columns instead of 11)\n    Line #446 (got 12 columns instead of 11)\n    Line #447 (got 12 columns instead of 11)\n    Line #448 (got 12 columns instead of 11)\n    Line #449 (got 12 columns instead of 11)\n    Line #450 (got 12 columns instead of 11)\n    Line #451 (got 12 columns instead of 11)\n    Line #452 (got 12 columns instead of 11)\n    Line #453 (got 12 columns instead of 11)\n    Line #454 (got 12 columns instead of 11)\n    Line #455 (got 12 columns instead of 11)\n    Line #456 (got 12 columns instead of 11)\n    Line #457 (got 12 columns instead of 11)\n    Line #458 (got 12 columns instead of 11)\n    Line #459 (got 12 columns instead of 11)\n    Line #460 (got 12 columns instead of 11)\n    Line #461 (got 12 columns instead of 11)\n    Line #462 (got 12 columns instead of 11)\n    Line #463 (got 12 columns instead of 11)\n    Line #464 (got 12 columns instead of 11)\n    Line #465 (got 12 columns instead of 11)\n    Line #466 (got 12 columns instead of 11)\n    Line #467 (got 12 columns instead of 11)\n    Line #468 (got 12 columns instead of 11)\n    Line #469 (got 12 columns instead of 11)\n    Line #470 (got 12 columns instead of 11)\n    Line #471 (got 12 columns instead of 11)\n    Line #472 (got 12 columns instead of 11)\n    Line #473 (got 12 columns instead of 11)\n    Line #474 (got 12 columns instead of 11)\n    Line #475 (got 12 columns instead of 11)\n    Line #476 (got 12 columns instead of 11)\n    Line #477 (got 12 columns instead of 11)\n    Line #478 (got 12 columns instead of 11)\n    Line #479 (got 12 columns instead of 11)\n    Line #480 (got 12 columns instead of 11)\n    Line #481 (got 12 columns instead of 11)\n    Line #482 (got 12 columns instead of 11)\n    Line #483 (got 12 columns instead of 11)\n    Line #484 (got 12 columns instead of 11)\n    Line #485 (got 12 columns instead of 11)\n    Line #486 (got 12 columns instead of 11)\n    Line #487 (got 12 columns instead of 11)\n    Line #488 (got 12 columns instead of 11)\n    Line #489 (got 12 columns instead of 11)\n    Line #490 (got 12 columns instead of 11)\n    Line #491 (got 12 columns instead of 11)\n    Line #492 (got 12 columns instead of 11)\n    Line #493 (got 12 columns instead of 11)\n    Line #494 (got 12 columns instead of 11)\n    Line #495 (got 12 columns instead of 11)\n    Line #496 (got 12 columns instead of 11)\n    Line #497 (got 12 columns instead of 11)\n    Line #498 (got 12 columns instead of 11)\n    Line #499 (got 12 columns instead of 11)\n    Line #500 (got 12 columns instead of 11)\n    Line #501 (got 12 columns instead of 11)\n    Line #502 (got 12 columns instead of 11)\n    Line #503 (got 12 columns instead of 11)\n    Line #504 (got 12 columns instead of 11)\n    Line #505 (got 12 columns instead of 11)\n    Line #506 (got 12 columns instead of 11)\n    Line #507 (got 12 columns instead of 11)\n    Line #508 (got 12 columns instead of 11)\n    Line #509 (got 12 columns instead of 11)\n    Line #510 (got 12 columns instead of 11)\n    Line #511 (got 12 columns instead of 11)\n    Line #512 (got 12 columns instead of 11)\n    Line #513 (got 12 columns instead of 11)\n    Line #514 (got 12 columns instead of 11)\n    Line #515 (got 12 columns instead of 11)\n    Line #516 (got 12 columns instead of 11)\n    Line #517 (got 12 columns instead of 11)\n    Line #518 (got 12 columns instead of 11)\n    Line #519 (got 12 columns instead of 11)\n    Line #520 (got 12 columns instead of 11)\n    Line #521 (got 12 columns instead of 11)\n    Line #522 (got 12 columns instead of 11)\n    Line #523 (got 12 columns instead of 11)\n    Line #524 (got 12 columns instead of 11)\n    Line #525 (got 12 columns instead of 11)\n    Line #526 (got 12 columns instead of 11)\n    Line #527 (got 12 columns instead of 11)\n    Line #528 (got 12 columns instead of 11)\n    Line #529 (got 12 columns instead of 11)\n    Line #530 (got 12 columns instead of 11)\n    Line #531 (got 12 columns instead of 11)\n    Line #532 (got 12 columns instead of 11)\n    Line #533 (got 12 columns instead of 11)\n    Line #534 (got 12 columns instead of 11)\n    Line #535 (got 12 columns instead of 11)\n    Line #536 (got 12 columns instead of 11)\n    Line #537 (got 12 columns instead of 11)\n    Line #538 (got 12 columns instead of 11)\n    Line #539 (got 12 columns instead of 11)\n    Line #540 (got 12 columns instead of 11)\n    Line #541 (got 12 columns instead of 11)\n    Line #542 (got 12 columns instead of 11)\n    Line #543 (got 12 columns instead of 11)\n    Line #544 (got 12 columns instead of 11)\n    Line #545 (got 12 columns instead of 11)\n    Line #546 (got 12 columns instead of 11)\n    Line #547 (got 12 columns instead of 11)\n    Line #548 (got 12 columns instead of 11)\n    Line #549 (got 12 columns instead of 11)\n    Line #550 (got 12 columns instead of 11)\n    Line #551 (got 12 columns instead of 11)\n    Line #552 (got 12 columns instead of 11)\n    Line #553 (got 12 columns instead of 11)\n    Line #554 (got 12 columns instead of 11)\n    Line #555 (got 12 columns instead of 11)\n    Line #556 (got 12 columns instead of 11)\n    Line #557 (got 12 columns instead of 11)\n    Line #558 (got 12 columns instead of 11)\n    Line #559 (got 12 columns instead of 11)\n    Line #560 (got 12 columns instead of 11)\n    Line #561 (got 12 columns instead of 11)\n    Line #562 (got 12 columns instead of 11)\n    Line #563 (got 12 columns instead of 11)\n    Line #564 (got 12 columns instead of 11)\n    Line #565 (got 12 columns instead of 11)\n    Line #566 (got 12 columns instead of 11)\n    Line #567 (got 12 columns instead of 11)\n    Line #568 (got 12 columns instead of 11)\n    Line #569 (got 12 columns instead of 11)\n    Line #570 (got 12 columns instead of 11)\n    Line #571 (got 12 columns instead of 11)\n    Line #572 (got 12 columns instead of 11)\n    Line #573 (got 12 columns instead of 11)\n    Line #574 (got 12 columns instead of 11)\n    Line #575 (got 12 columns instead of 11)\n    Line #576 (got 12 columns instead of 11)\n    Line #577 (got 12 columns instead of 11)\n    Line #578 (got 12 columns instead of 11)\n    Line #579 (got 12 columns instead of 11)\n    Line #580 (got 12 columns instead of 11)\n    Line #581 (got 12 columns instead of 11)\n    Line #582 (got 12 columns instead of 11)\n    Line #583 (got 12 columns instead of 11)\n    Line #584 (got 12 columns instead of 11)\n    Line #585 (got 12 columns instead of 11)\n    Line #586 (got 12 columns instead of 11)\n    Line #587 (got 12 columns instead of 11)\n    Line #588 (got 12 columns instead of 11)\n    Line #589 (got 12 columns instead of 11)\n    Line #590 (got 12 columns instead of 11)\n    Line #591 (got 12 columns instead of 11)\n    Line #592 (got 12 columns instead of 11)\n    Line #593 (got 12 columns instead of 11)\n    Line #594 (got 12 columns instead of 11)\n    Line #595 (got 12 columns instead of 11)\n    Line #596 (got 12 columns instead of 11)\n    Line #597 (got 12 columns instead of 11)\n    Line #598 (got 12 columns instead of 11)\n    Line #599 (got 12 columns instead of 11)\n    Line #600 (got 12 columns instead of 11)\n    Line #601 (got 12 columns instead of 11)\n    Line #602 (got 12 columns instead of 11)\n    Line #603 (got 12 columns instead of 11)\n    Line #604 (got 12 columns instead of 11)\n    Line #605 (got 12 columns instead of 11)\n    Line #606 (got 12 columns instead of 11)\n    Line #607 (got 12 columns instead of 11)\n    Line #608 (got 12 columns instead of 11)\n    Line #609 (got 12 columns instead of 11)\n    Line #610 (got 12 columns instead of 11)\n    Line #611 (got 12 columns instead of 11)\n    Line #612 (got 12 columns instead of 11)\n    Line #613 (got 12 columns instead of 11)\n    Line #614 (got 12 columns instead of 11)\n    Line #615 (got 12 columns instead of 11)\n    Line #616 (got 12 columns instead of 11)\n    Line #617 (got 12 columns instead of 11)\n    Line #618 (got 12 columns instead of 11)\n    Line #619 (got 12 columns instead of 11)\n    Line #620 (got 12 columns instead of 11)\n    Line #621 (got 12 columns instead of 11)\n    Line #622 (got 12 columns instead of 11)\n    Line #623 (got 12 columns instead of 11)\n    Line #624 (got 12 columns instead of 11)\n    Line #625 (got 12 columns instead of 11)\n    Line #626 (got 12 columns instead of 11)\n    Line #627 (got 12 columns instead of 11)\n    Line #628 (got 12 columns instead of 11)\n    Line #629 (got 12 columns instead of 11)\n    Line #630 (got 12 columns instead of 11)\n    Line #631 (got 12 columns instead of 11)\n    Line #632 (got 12 columns instead of 11)\n    Line #633 (got 12 columns instead of 11)\n    Line #634 (got 12 columns instead of 11)\n    Line #635 (got 12 columns instead of 11)\n    Line #636 (got 12 columns instead of 11)\n    Line #637 (got 12 columns instead of 11)\n    Line #638 (got 12 columns instead of 11)\n    Line #639 (got 12 columns instead of 11)\n    Line #640 (got 12 columns instead of 11)\n    Line #641 (got 12 columns instead of 11)\n    Line #642 (got 12 columns instead of 11)\n    Line #643 (got 12 columns instead of 11)\n    Line #644 (got 12 columns instead of 11)\n    Line #645 (got 12 columns instead of 11)\n    Line #646 (got 12 columns instead of 11)\n    Line #647 (got 12 columns instead of 11)\n    Line #648 (got 12 columns instead of 11)\n    Line #649 (got 12 columns instead of 11)\n    Line #650 (got 12 columns instead of 11)\n    Line #651 (got 12 columns instead of 11)\n    Line #652 (got 12 columns instead of 11)\n    Line #653 (got 12 columns instead of 11)\n    Line #654 (got 12 columns instead of 11)\n    Line #655 (got 12 columns instead of 11)\n    Line #656 (got 12 columns instead of 11)\n    Line #657 (got 12 columns instead of 11)\n    Line #658 (got 12 columns instead of 11)\n    Line #659 (got 12 columns instead of 11)\n    Line #660 (got 12 columns instead of 11)\n    Line #661 (got 12 columns instead of 11)\n    Line #662 (got 12 columns instead of 11)\n    Line #663 (got 12 columns instead of 11)\n    Line #664 (got 12 columns instead of 11)\n    Line #665 (got 12 columns instead of 11)\n    Line #666 (got 12 columns instead of 11)\n    Line #667 (got 12 columns instead of 11)\n    Line #668 (got 12 columns instead of 11)\n    Line #669 (got 12 columns instead of 11)\n    Line #670 (got 12 columns instead of 11)\n    Line #671 (got 12 columns instead of 11)\n    Line #672 (got 12 columns instead of 11)\n    Line #673 (got 12 columns instead of 11)\n    Line #674 (got 12 columns instead of 11)\n    Line #675 (got 12 columns instead of 11)\n    Line #676 (got 12 columns instead of 11)\n    Line #677 (got 12 columns instead of 11)\n    Line #678 (got 12 columns instead of 11)\n    Line #679 (got 12 columns instead of 11)\n    Line #680 (got 12 columns instead of 11)\n    Line #681 (got 12 columns instead of 11)\n    Line #682 (got 12 columns instead of 11)\n    Line #683 (got 12 columns instead of 11)\n    Line #684 (got 12 columns instead of 11)\n    Line #685 (got 12 columns instead of 11)\n    Line #686 (got 12 columns instead of 11)\n    Line #687 (got 12 columns instead of 11)\n    Line #688 (got 12 columns instead of 11)\n    Line #689 (got 12 columns instead of 11)\n    Line #690 (got 12 columns instead of 11)\n    Line #691 (got 12 columns instead of 11)\n    Line #692 (got 12 columns instead of 11)\n    Line #693 (got 12 columns instead of 11)\n    Line #694 (got 12 columns instead of 11)\n    Line #695 (got 12 columns instead of 11)\n    Line #696 (got 12 columns instead of 11)\n    Line #697 (got 12 columns instead of 11)\n    Line #698 (got 12 columns instead of 11)\n    Line #699 (got 12 columns instead of 11)\n    Line #700 (got 12 columns instead of 11)\n    Line #701 (got 12 columns instead of 11)\n    Line #702 (got 12 columns instead of 11)\n    Line #703 (got 12 columns instead of 11)\n    Line #704 (got 12 columns instead of 11)\n    Line #705 (got 12 columns instead of 11)\n    Line #706 (got 12 columns instead of 11)\n    Line #707 (got 12 columns instead of 11)\n    Line #708 (got 12 columns instead of 11)\n    Line #709 (got 12 columns instead of 11)\n    Line #710 (got 12 columns instead of 11)\n    Line #711 (got 12 columns instead of 11)\n    Line #712 (got 12 columns instead of 11)\n    Line #713 (got 12 columns instead of 11)\n    Line #714 (got 12 columns instead of 11)\n    Line #715 (got 12 columns instead of 11)\n    Line #716 (got 12 columns instead of 11)\n    Line #717 (got 12 columns instead of 11)\n    Line #718 (got 12 columns instead of 11)\n    Line #719 (got 12 columns instead of 11)\n    Line #720 (got 12 columns instead of 11)\n    Line #721 (got 12 columns instead of 11)\n    Line #722 (got 12 columns instead of 11)\n    Line #723 (got 12 columns instead of 11)\n    Line #724 (got 12 columns instead of 11)\n    Line #725 (got 12 columns instead of 11)\n    Line #726 (got 12 columns instead of 11)\n    Line #727 (got 12 columns instead of 11)\n    Line #728 (got 12 columns instead of 11)\n    Line #729 (got 12 columns instead of 11)\n    Line #730 (got 12 columns instead of 11)\n    Line #731 (got 12 columns instead of 11)\n    Line #732 (got 12 columns instead of 11)\n    Line #733 (got 12 columns instead of 11)\n    Line #734 (got 12 columns instead of 11)\n    Line #735 (got 12 columns instead of 11)\n    Line #736 (got 12 columns instead of 11)\n    Line #737 (got 12 columns instead of 11)\n    Line #738 (got 12 columns instead of 11)\n    Line #739 (got 12 columns instead of 11)\n    Line #740 (got 12 columns instead of 11)\n    Line #741 (got 12 columns instead of 11)\n    Line #742 (got 12 columns instead of 11)\n    Line #743 (got 12 columns instead of 11)\n    Line #744 (got 12 columns instead of 11)\n    Line #745 (got 12 columns instead of 11)\n    Line #746 (got 12 columns instead of 11)\n    Line #747 (got 12 columns instead of 11)\n    Line #748 (got 12 columns instead of 11)\n    Line #749 (got 12 columns instead of 11)\n    Line #750 (got 12 columns instead of 11)\n    Line #751 (got 12 columns instead of 11)\n    Line #752 (got 12 columns instead of 11)\n    Line #753 (got 12 columns instead of 11)\n    Line #754 (got 12 columns instead of 11)\n    Line #755 (got 12 columns instead of 11)\n    Line #756 (got 12 columns instead of 11)\n    Line #757 (got 12 columns instead of 11)\n    Line #758 (got 12 columns instead of 11)\n    Line #759 (got 12 columns instead of 11)\n    Line #760 (got 12 columns instead of 11)\n    Line #761 (got 12 columns instead of 11)\n    Line #762 (got 12 columns instead of 11)\n    Line #763 (got 12 columns instead of 11)\n    Line #764 (got 12 columns instead of 11)\n    Line #765 (got 12 columns instead of 11)\n    Line #766 (got 12 columns instead of 11)\n    Line #767 (got 12 columns instead of 11)\n    Line #768 (got 12 columns instead of 11)\n    Line #769 (got 12 columns instead of 11)\n    Line #770 (got 12 columns instead of 11)\n    Line #771 (got 12 columns instead of 11)\n    Line #772 (got 12 columns instead of 11)\n    Line #773 (got 12 columns instead of 11)\n    Line #774 (got 12 columns instead of 11)\n    Line #775 (got 12 columns instead of 11)\n    Line #776 (got 12 columns instead of 11)\n    Line #777 (got 12 columns instead of 11)\n    Line #778 (got 12 columns instead of 11)\n    Line #779 (got 12 columns instead of 11)\n    Line #780 (got 12 columns instead of 11)\n    Line #781 (got 12 columns instead of 11)\n    Line #782 (got 12 columns instead of 11)\n    Line #783 (got 12 columns instead of 11)\n    Line #784 (got 12 columns instead of 11)\n    Line #785 (got 12 columns instead of 11)\n    Line #786 (got 12 columns instead of 11)\n    Line #787 (got 12 columns instead of 11)\n    Line #788 (got 12 columns instead of 11)\n    Line #789 (got 12 columns instead of 11)\n    Line #790 (got 12 columns instead of 11)\n    Line #791 (got 12 columns instead of 11)\n    Line #792 (got 12 columns instead of 11)\n    Line #793 (got 12 columns instead of 11)\n    Line #794 (got 12 columns instead of 11)\n    Line #795 (got 12 columns instead of 11)\n    Line #796 (got 12 columns instead of 11)\n    Line #797 (got 12 columns instead of 11)\n    Line #798 (got 12 columns instead of 11)\n    Line #799 (got 12 columns instead of 11)\n    Line #800 (got 12 columns instead of 11)\n    Line #801 (got 12 columns instead of 11)\n    Line #802 (got 12 columns instead of 11)\n    Line #803 (got 12 columns instead of 11)\n    Line #804 (got 12 columns instead of 11)\n    Line #805 (got 12 columns instead of 11)\n    Line #806 (got 12 columns instead of 11)\n    Line #807 (got 12 columns instead of 11)\n    Line #808 (got 12 columns instead of 11)\n    Line #809 (got 12 columns instead of 11)\n    Line #810 (got 12 columns instead of 11)\n    Line #811 (got 12 columns instead of 11)\n    Line #812 (got 12 columns instead of 11)\n    Line #813 (got 12 columns instead of 11)\n    Line #814 (got 12 columns instead of 11)\n    Line #815 (got 12 columns instead of 11)\n    Line #816 (got 12 columns instead of 11)\n    Line #817 (got 12 columns instead of 11)\n    Line #818 (got 12 columns instead of 11)\n    Line #819 (got 12 columns instead of 11)\n    Line #820 (got 12 columns instead of 11)\n    Line #821 (got 12 columns instead of 11)\n    Line #822 (got 12 columns instead of 11)\n    Line #823 (got 12 columns instead of 11)\n    Line #824 (got 12 columns instead of 11)\n    Line #825 (got 12 columns instead of 11)\n    Line #826 (got 12 columns instead of 11)\n    Line #827 (got 12 columns instead of 11)\n    Line #828 (got 12 columns instead of 11)\n    Line #829 (got 12 columns instead of 11)\n    Line #830 (got 12 columns instead of 11)\n    Line #831 (got 12 columns instead of 11)\n    Line #832 (got 12 columns instead of 11)\n    Line #833 (got 12 columns instead of 11)\n    Line #834 (got 12 columns instead of 11)\n    Line #835 (got 12 columns instead of 11)\n    Line #836 (got 12 columns instead of 11)\n    Line #837 (got 12 columns instead of 11)\n    Line #838 (got 12 columns instead of 11)\n    Line #839 (got 12 columns instead of 11)\n    Line #840 (got 12 columns instead of 11)\n    Line #841 (got 12 columns instead of 11)\n    Line #842 (got 12 columns instead of 11)\n    Line #843 (got 12 columns instead of 11)\n    Line #844 (got 12 columns instead of 11)\n    Line #845 (got 12 columns instead of 11)\n    Line #846 (got 12 columns instead of 11)\n    Line #847 (got 12 columns instead of 11)\n    Line #848 (got 12 columns instead of 11)\n    Line #849 (got 12 columns instead of 11)\n    Line #850 (got 12 columns instead of 11)\n    Line #851 (got 12 columns instead of 11)\n    Line #852 (got 12 columns instead of 11)\n    Line #853 (got 12 columns instead of 11)\n    Line #854 (got 12 columns instead of 11)\n    Line #855 (got 12 columns instead of 11)\n    Line #856 (got 12 columns instead of 11)\n    Line #857 (got 12 columns instead of 11)\n    Line #858 (got 12 columns instead of 11)\n    Line #859 (got 12 columns instead of 11)\n    Line #860 (got 12 columns instead of 11)\n    Line #861 (got 12 columns instead of 11)\n    Line #862 (got 12 columns instead of 11)\n    Line #863 (got 12 columns instead of 11)\n    Line #864 (got 12 columns instead of 11)\n    Line #865 (got 12 columns instead of 11)\n    Line #866 (got 12 columns instead of 11)\n    Line #867 (got 12 columns instead of 11)\n    Line #868 (got 12 columns instead of 11)\n    Line #869 (got 12 columns instead of 11)\n    Line #870 (got 12 columns instead of 11)\n    Line #871 (got 12 columns instead of 11)\n    Line #872 (got 12 columns instead of 11)\n    Line #873 (got 12 columns instead of 11)\n    Line #874 (got 12 columns instead of 11)\n    Line #875 (got 12 columns instead of 11)\n    Line #876 (got 12 columns instead of 11)\n    Line #877 (got 12 columns instead of 11)\n    Line #878 (got 12 columns instead of 11)\n    Line #879 (got 12 columns instead of 11)\n    Line #880 (got 12 columns instead of 11)\n    Line #881 (got 12 columns instead of 11)\n    Line #882 (got 12 columns instead of 11)\n    Line #883 (got 12 columns instead of 11)\n    Line #884 (got 12 columns instead of 11)\n    Line #885 (got 12 columns instead of 11)\n    Line #886 (got 12 columns instead of 11)\n    Line #887 (got 12 columns instead of 11)\n    Line #888 (got 12 columns instead of 11)\n    Line #889 (got 12 columns instead of 11)\n    Line #890 (got 12 columns instead of 11)\n    Line #891 (got 12 columns instead of 11)\n    Line #892 (got 12 columns instead of 11)",
     "output_type": "error",
     "traceback": [
      "\u001b[1;31m---------------------------------------------------------------------------\u001b[0m",
      "\u001b[1;31mValueError\u001b[0m                                Traceback (most recent call last)",
      "\u001b[1;32m<ipython-input-8-3dab0d22c009>\u001b[0m in \u001b[0;36m<module>\u001b[1;34m\u001b[0m\n\u001b[0;32m      3\u001b[0m \u001b[1;33m\u001b[0m\u001b[0m\n\u001b[0;32m      4\u001b[0m \u001b[1;31m# Import file using np.recfromcsv: d\u001b[0m\u001b[1;33m\u001b[0m\u001b[1;33m\u001b[0m\u001b[1;33m\u001b[0m\u001b[0m\n\u001b[1;32m----> 5\u001b[1;33m \u001b[0md\u001b[0m \u001b[1;33m=\u001b[0m \u001b[0mnp\u001b[0m\u001b[1;33m.\u001b[0m\u001b[0mrecfromcsv\u001b[0m\u001b[1;33m(\u001b[0m\u001b[0mfile\u001b[0m\u001b[1;33m,\u001b[0m \u001b[0mdelimiter\u001b[0m\u001b[1;33m=\u001b[0m\u001b[1;34m','\u001b[0m\u001b[1;33m,\u001b[0m \u001b[0mnames\u001b[0m\u001b[1;33m=\u001b[0m\u001b[1;32mTrue\u001b[0m\u001b[1;33m,\u001b[0m \u001b[0mdtype\u001b[0m\u001b[1;33m=\u001b[0m\u001b[1;32mNone\u001b[0m\u001b[1;33m)\u001b[0m\u001b[1;33m\u001b[0m\u001b[1;33m\u001b[0m\u001b[0m\n\u001b[0m\u001b[0;32m      6\u001b[0m \u001b[1;33m\u001b[0m\u001b[0m\n\u001b[0;32m      7\u001b[0m \u001b[1;31m# Print out first three entries of d\u001b[0m\u001b[1;33m\u001b[0m\u001b[1;33m\u001b[0m\u001b[1;33m\u001b[0m\u001b[0m\n",
      "\u001b[1;32m~\\AppData\\Local\\anaconda3\\lib\\site-packages\\numpy\\lib\\npyio.py\u001b[0m in \u001b[0;36mrecfromcsv\u001b[1;34m(fname, **kwargs)\u001b[0m\n\u001b[0;32m   2313\u001b[0m     \u001b[0mkwargs\u001b[0m\u001b[1;33m.\u001b[0m\u001b[0msetdefault\u001b[0m\u001b[1;33m(\u001b[0m\u001b[1;34m\"delimiter\"\u001b[0m\u001b[1;33m,\u001b[0m \u001b[1;34m\",\"\u001b[0m\u001b[1;33m)\u001b[0m\u001b[1;33m\u001b[0m\u001b[1;33m\u001b[0m\u001b[0m\n\u001b[0;32m   2314\u001b[0m     \u001b[0mkwargs\u001b[0m\u001b[1;33m.\u001b[0m\u001b[0msetdefault\u001b[0m\u001b[1;33m(\u001b[0m\u001b[1;34m\"dtype\"\u001b[0m\u001b[1;33m,\u001b[0m \u001b[1;32mNone\u001b[0m\u001b[1;33m)\u001b[0m\u001b[1;33m\u001b[0m\u001b[1;33m\u001b[0m\u001b[0m\n\u001b[1;32m-> 2315\u001b[1;33m     \u001b[0moutput\u001b[0m \u001b[1;33m=\u001b[0m \u001b[0mgenfromtxt\u001b[0m\u001b[1;33m(\u001b[0m\u001b[0mfname\u001b[0m\u001b[1;33m,\u001b[0m \u001b[1;33m**\u001b[0m\u001b[0mkwargs\u001b[0m\u001b[1;33m)\u001b[0m\u001b[1;33m\u001b[0m\u001b[1;33m\u001b[0m\u001b[0m\n\u001b[0m\u001b[0;32m   2316\u001b[0m \u001b[1;33m\u001b[0m\u001b[0m\n\u001b[0;32m   2317\u001b[0m     \u001b[0musemask\u001b[0m \u001b[1;33m=\u001b[0m \u001b[0mkwargs\u001b[0m\u001b[1;33m.\u001b[0m\u001b[0mget\u001b[0m\u001b[1;33m(\u001b[0m\u001b[1;34m\"usemask\"\u001b[0m\u001b[1;33m,\u001b[0m \u001b[1;32mFalse\u001b[0m\u001b[1;33m)\u001b[0m\u001b[1;33m\u001b[0m\u001b[1;33m\u001b[0m\u001b[0m\n",
      "\u001b[1;32m~\\AppData\\Local\\anaconda3\\lib\\site-packages\\numpy\\lib\\npyio.py\u001b[0m in \u001b[0;36mgenfromtxt\u001b[1;34m(fname, dtype, comments, delimiter, skip_header, skip_footer, converters, missing_values, filling_values, usecols, names, excludelist, deletechars, replace_space, autostrip, case_sensitive, defaultfmt, unpack, usemask, loose, invalid_raise, max_rows, encoding)\u001b[0m\n\u001b[0;32m   2066\u001b[0m             \u001b[1;31m# Raise an exception ?\u001b[0m\u001b[1;33m\u001b[0m\u001b[1;33m\u001b[0m\u001b[1;33m\u001b[0m\u001b[0m\n\u001b[0;32m   2067\u001b[0m             \u001b[1;32mif\u001b[0m \u001b[0minvalid_raise\u001b[0m\u001b[1;33m:\u001b[0m\u001b[1;33m\u001b[0m\u001b[1;33m\u001b[0m\u001b[0m\n\u001b[1;32m-> 2068\u001b[1;33m                 \u001b[1;32mraise\u001b[0m \u001b[0mValueError\u001b[0m\u001b[1;33m(\u001b[0m\u001b[0merrmsg\u001b[0m\u001b[1;33m)\u001b[0m\u001b[1;33m\u001b[0m\u001b[1;33m\u001b[0m\u001b[0m\n\u001b[0m\u001b[0;32m   2069\u001b[0m             \u001b[1;31m# Issue a warning ?\u001b[0m\u001b[1;33m\u001b[0m\u001b[1;33m\u001b[0m\u001b[1;33m\u001b[0m\u001b[0m\n\u001b[0;32m   2070\u001b[0m             \u001b[1;32melse\u001b[0m\u001b[1;33m:\u001b[0m\u001b[1;33m\u001b[0m\u001b[1;33m\u001b[0m\u001b[0m\n",
      "\u001b[1;31mValueError\u001b[0m: Some errors were detected !\n    Line #2 (got 12 columns instead of 11)\n    Line #3 (got 12 columns instead of 11)\n    Line #4 (got 12 columns instead of 11)\n    Line #5 (got 12 columns instead of 11)\n    Line #6 (got 12 columns instead of 11)\n    Line #7 (got 12 columns instead of 11)\n    Line #8 (got 12 columns instead of 11)\n    Line #9 (got 12 columns instead of 11)\n    Line #10 (got 12 columns instead of 11)\n    Line #11 (got 12 columns instead of 11)\n    Line #12 (got 12 columns instead of 11)\n    Line #13 (got 12 columns instead of 11)\n    Line #14 (got 12 columns instead of 11)\n    Line #15 (got 12 columns instead of 11)\n    Line #16 (got 12 columns instead of 11)\n    Line #17 (got 12 columns instead of 11)\n    Line #18 (got 12 columns instead of 11)\n    Line #19 (got 12 columns instead of 11)\n    Line #20 (got 12 columns instead of 11)\n    Line #21 (got 12 columns instead of 11)\n    Line #22 (got 12 columns instead of 11)\n    Line #23 (got 12 columns instead of 11)\n    Line #24 (got 12 columns instead of 11)\n    Line #25 (got 12 columns instead of 11)\n    Line #26 (got 12 columns instead of 11)\n    Line #27 (got 12 columns instead of 11)\n    Line #28 (got 12 columns instead of 11)\n    Line #29 (got 12 columns instead of 11)\n    Line #30 (got 12 columns instead of 11)\n    Line #31 (got 12 columns instead of 11)\n    Line #32 (got 12 columns instead of 11)\n    Line #33 (got 12 columns instead of 11)\n    Line #34 (got 12 columns instead of 11)\n    Line #35 (got 12 columns instead of 11)\n    Line #36 (got 12 columns instead of 11)\n    Line #37 (got 12 columns instead of 11)\n    Line #38 (got 12 columns instead of 11)\n    Line #39 (got 12 columns instead of 11)\n    Line #40 (got 12 columns instead of 11)\n    Line #41 (got 12 columns instead of 11)\n    Line #42 (got 12 columns instead of 11)\n    Line #43 (got 12 columns instead of 11)\n    Line #44 (got 12 columns instead of 11)\n    Line #45 (got 12 columns instead of 11)\n    Line #46 (got 12 columns instead of 11)\n    Line #47 (got 12 columns instead of 11)\n    Line #48 (got 12 columns instead of 11)\n    Line #49 (got 12 columns instead of 11)\n    Line #50 (got 12 columns instead of 11)\n    Line #51 (got 12 columns instead of 11)\n    Line #52 (got 12 columns instead of 11)\n    Line #53 (got 12 columns instead of 11)\n    Line #54 (got 12 columns instead of 11)\n    Line #55 (got 12 columns instead of 11)\n    Line #56 (got 12 columns instead of 11)\n    Line #57 (got 12 columns instead of 11)\n    Line #58 (got 12 columns instead of 11)\n    Line #59 (got 12 columns instead of 11)\n    Line #60 (got 12 columns instead of 11)\n    Line #61 (got 12 columns instead of 11)\n    Line #62 (got 12 columns instead of 11)\n    Line #63 (got 12 columns instead of 11)\n    Line #64 (got 12 columns instead of 11)\n    Line #65 (got 12 columns instead of 11)\n    Line #66 (got 12 columns instead of 11)\n    Line #67 (got 12 columns instead of 11)\n    Line #68 (got 12 columns instead of 11)\n    Line #69 (got 12 columns instead of 11)\n    Line #70 (got 12 columns instead of 11)\n    Line #71 (got 12 columns instead of 11)\n    Line #72 (got 12 columns instead of 11)\n    Line #73 (got 12 columns instead of 11)\n    Line #74 (got 12 columns instead of 11)\n    Line #75 (got 12 columns instead of 11)\n    Line #76 (got 12 columns instead of 11)\n    Line #77 (got 12 columns instead of 11)\n    Line #78 (got 12 columns instead of 11)\n    Line #79 (got 12 columns instead of 11)\n    Line #80 (got 12 columns instead of 11)\n    Line #81 (got 12 columns instead of 11)\n    Line #82 (got 12 columns instead of 11)\n    Line #83 (got 12 columns instead of 11)\n    Line #84 (got 12 columns instead of 11)\n    Line #85 (got 12 columns instead of 11)\n    Line #86 (got 12 columns instead of 11)\n    Line #87 (got 12 columns instead of 11)\n    Line #88 (got 12 columns instead of 11)\n    Line #89 (got 12 columns instead of 11)\n    Line #90 (got 12 columns instead of 11)\n    Line #91 (got 12 columns instead of 11)\n    Line #92 (got 12 columns instead of 11)\n    Line #93 (got 12 columns instead of 11)\n    Line #94 (got 12 columns instead of 11)\n    Line #95 (got 12 columns instead of 11)\n    Line #96 (got 12 columns instead of 11)\n    Line #97 (got 12 columns instead of 11)\n    Line #98 (got 12 columns instead of 11)\n    Line #99 (got 12 columns instead of 11)\n    Line #100 (got 12 columns instead of 11)\n    Line #101 (got 12 columns instead of 11)\n    Line #102 (got 12 columns instead of 11)\n    Line #103 (got 12 columns instead of 11)\n    Line #104 (got 12 columns instead of 11)\n    Line #105 (got 12 columns instead of 11)\n    Line #106 (got 12 columns instead of 11)\n    Line #107 (got 12 columns instead of 11)\n    Line #108 (got 12 columns instead of 11)\n    Line #109 (got 12 columns instead of 11)\n    Line #110 (got 12 columns instead of 11)\n    Line #111 (got 12 columns instead of 11)\n    Line #112 (got 12 columns instead of 11)\n    Line #113 (got 12 columns instead of 11)\n    Line #114 (got 12 columns instead of 11)\n    Line #115 (got 12 columns instead of 11)\n    Line #116 (got 12 columns instead of 11)\n    Line #117 (got 12 columns instead of 11)\n    Line #118 (got 12 columns instead of 11)\n    Line #119 (got 12 columns instead of 11)\n    Line #120 (got 12 columns instead of 11)\n    Line #121 (got 12 columns instead of 11)\n    Line #122 (got 12 columns instead of 11)\n    Line #123 (got 12 columns instead of 11)\n    Line #124 (got 12 columns instead of 11)\n    Line #125 (got 12 columns instead of 11)\n    Line #126 (got 12 columns instead of 11)\n    Line #127 (got 12 columns instead of 11)\n    Line #128 (got 12 columns instead of 11)\n    Line #129 (got 12 columns instead of 11)\n    Line #130 (got 12 columns instead of 11)\n    Line #131 (got 12 columns instead of 11)\n    Line #132 (got 12 columns instead of 11)\n    Line #133 (got 12 columns instead of 11)\n    Line #134 (got 12 columns instead of 11)\n    Line #135 (got 12 columns instead of 11)\n    Line #136 (got 12 columns instead of 11)\n    Line #137 (got 12 columns instead of 11)\n    Line #138 (got 12 columns instead of 11)\n    Line #139 (got 12 columns instead of 11)\n    Line #140 (got 12 columns instead of 11)\n    Line #141 (got 12 columns instead of 11)\n    Line #142 (got 12 columns instead of 11)\n    Line #143 (got 12 columns instead of 11)\n    Line #144 (got 12 columns instead of 11)\n    Line #145 (got 12 columns instead of 11)\n    Line #146 (got 12 columns instead of 11)\n    Line #147 (got 12 columns instead of 11)\n    Line #148 (got 12 columns instead of 11)\n    Line #149 (got 12 columns instead of 11)\n    Line #150 (got 12 columns instead of 11)\n    Line #151 (got 12 columns instead of 11)\n    Line #152 (got 12 columns instead of 11)\n    Line #153 (got 12 columns instead of 11)\n    Line #154 (got 12 columns instead of 11)\n    Line #155 (got 12 columns instead of 11)\n    Line #156 (got 12 columns instead of 11)\n    Line #157 (got 12 columns instead of 11)\n    Line #158 (got 12 columns instead of 11)\n    Line #159 (got 12 columns instead of 11)\n    Line #160 (got 12 columns instead of 11)\n    Line #161 (got 12 columns instead of 11)\n    Line #162 (got 12 columns instead of 11)\n    Line #163 (got 12 columns instead of 11)\n    Line #164 (got 12 columns instead of 11)\n    Line #165 (got 12 columns instead of 11)\n    Line #166 (got 12 columns instead of 11)\n    Line #167 (got 12 columns instead of 11)\n    Line #168 (got 12 columns instead of 11)\n    Line #169 (got 12 columns instead of 11)\n    Line #170 (got 12 columns instead of 11)\n    Line #171 (got 12 columns instead of 11)\n    Line #172 (got 12 columns instead of 11)\n    Line #173 (got 12 columns instead of 11)\n    Line #174 (got 12 columns instead of 11)\n    Line #175 (got 12 columns instead of 11)\n    Line #176 (got 12 columns instead of 11)\n    Line #177 (got 12 columns instead of 11)\n    Line #178 (got 12 columns instead of 11)\n    Line #179 (got 12 columns instead of 11)\n    Line #180 (got 12 columns instead of 11)\n    Line #181 (got 12 columns instead of 11)\n    Line #182 (got 12 columns instead of 11)\n    Line #183 (got 12 columns instead of 11)\n    Line #184 (got 12 columns instead of 11)\n    Line #185 (got 12 columns instead of 11)\n    Line #186 (got 12 columns instead of 11)\n    Line #187 (got 12 columns instead of 11)\n    Line #188 (got 12 columns instead of 11)\n    Line #189 (got 12 columns instead of 11)\n    Line #190 (got 12 columns instead of 11)\n    Line #191 (got 12 columns instead of 11)\n    Line #192 (got 12 columns instead of 11)\n    Line #193 (got 12 columns instead of 11)\n    Line #194 (got 12 columns instead of 11)\n    Line #195 (got 12 columns instead of 11)\n    Line #196 (got 12 columns instead of 11)\n    Line #197 (got 12 columns instead of 11)\n    Line #198 (got 12 columns instead of 11)\n    Line #199 (got 12 columns instead of 11)\n    Line #200 (got 12 columns instead of 11)\n    Line #201 (got 12 columns instead of 11)\n    Line #202 (got 12 columns instead of 11)\n    Line #203 (got 12 columns instead of 11)\n    Line #204 (got 12 columns instead of 11)\n    Line #205 (got 12 columns instead of 11)\n    Line #206 (got 12 columns instead of 11)\n    Line #207 (got 12 columns instead of 11)\n    Line #208 (got 12 columns instead of 11)\n    Line #209 (got 12 columns instead of 11)\n    Line #210 (got 12 columns instead of 11)\n    Line #211 (got 12 columns instead of 11)\n    Line #212 (got 12 columns instead of 11)\n    Line #213 (got 12 columns instead of 11)\n    Line #214 (got 12 columns instead of 11)\n    Line #215 (got 12 columns instead of 11)\n    Line #216 (got 12 columns instead of 11)\n    Line #217 (got 12 columns instead of 11)\n    Line #218 (got 12 columns instead of 11)\n    Line #219 (got 12 columns instead of 11)\n    Line #220 (got 12 columns instead of 11)\n    Line #221 (got 12 columns instead of 11)\n    Line #222 (got 12 columns instead of 11)\n    Line #223 (got 12 columns instead of 11)\n    Line #224 (got 12 columns instead of 11)\n    Line #225 (got 12 columns instead of 11)\n    Line #226 (got 12 columns instead of 11)\n    Line #227 (got 12 columns instead of 11)\n    Line #228 (got 12 columns instead of 11)\n    Line #229 (got 12 columns instead of 11)\n    Line #230 (got 12 columns instead of 11)\n    Line #231 (got 12 columns instead of 11)\n    Line #232 (got 12 columns instead of 11)\n    Line #233 (got 12 columns instead of 11)\n    Line #234 (got 12 columns instead of 11)\n    Line #235 (got 12 columns instead of 11)\n    Line #236 (got 12 columns instead of 11)\n    Line #237 (got 12 columns instead of 11)\n    Line #238 (got 12 columns instead of 11)\n    Line #239 (got 12 columns instead of 11)\n    Line #240 (got 12 columns instead of 11)\n    Line #241 (got 12 columns instead of 11)\n    Line #242 (got 12 columns instead of 11)\n    Line #243 (got 12 columns instead of 11)\n    Line #244 (got 12 columns instead of 11)\n    Line #245 (got 12 columns instead of 11)\n    Line #246 (got 12 columns instead of 11)\n    Line #247 (got 12 columns instead of 11)\n    Line #248 (got 12 columns instead of 11)\n    Line #249 (got 12 columns instead of 11)\n    Line #250 (got 12 columns instead of 11)\n    Line #251 (got 12 columns instead of 11)\n    Line #252 (got 12 columns instead of 11)\n    Line #253 (got 12 columns instead of 11)\n    Line #254 (got 12 columns instead of 11)\n    Line #255 (got 12 columns instead of 11)\n    Line #256 (got 12 columns instead of 11)\n    Line #257 (got 12 columns instead of 11)\n    Line #258 (got 12 columns instead of 11)\n    Line #259 (got 12 columns instead of 11)\n    Line #260 (got 12 columns instead of 11)\n    Line #261 (got 12 columns instead of 11)\n    Line #262 (got 12 columns instead of 11)\n    Line #263 (got 12 columns instead of 11)\n    Line #264 (got 12 columns instead of 11)\n    Line #265 (got 12 columns instead of 11)\n    Line #266 (got 12 columns instead of 11)\n    Line #267 (got 12 columns instead of 11)\n    Line #268 (got 12 columns instead of 11)\n    Line #269 (got 12 columns instead of 11)\n    Line #270 (got 12 columns instead of 11)\n    Line #271 (got 12 columns instead of 11)\n    Line #272 (got 12 columns instead of 11)\n    Line #273 (got 12 columns instead of 11)\n    Line #274 (got 12 columns instead of 11)\n    Line #275 (got 12 columns instead of 11)\n    Line #276 (got 12 columns instead of 11)\n    Line #277 (got 12 columns instead of 11)\n    Line #278 (got 12 columns instead of 11)\n    Line #279 (got 12 columns instead of 11)\n    Line #280 (got 12 columns instead of 11)\n    Line #281 (got 12 columns instead of 11)\n    Line #282 (got 12 columns instead of 11)\n    Line #283 (got 12 columns instead of 11)\n    Line #284 (got 12 columns instead of 11)\n    Line #285 (got 12 columns instead of 11)\n    Line #286 (got 12 columns instead of 11)\n    Line #287 (got 12 columns instead of 11)\n    Line #288 (got 12 columns instead of 11)\n    Line #289 (got 12 columns instead of 11)\n    Line #290 (got 12 columns instead of 11)\n    Line #291 (got 12 columns instead of 11)\n    Line #292 (got 12 columns instead of 11)\n    Line #293 (got 12 columns instead of 11)\n    Line #294 (got 12 columns instead of 11)\n    Line #295 (got 12 columns instead of 11)\n    Line #296 (got 12 columns instead of 11)\n    Line #297 (got 12 columns instead of 11)\n    Line #298 (got 12 columns instead of 11)\n    Line #299 (got 12 columns instead of 11)\n    Line #300 (got 12 columns instead of 11)\n    Line #301 (got 12 columns instead of 11)\n    Line #302 (got 12 columns instead of 11)\n    Line #303 (got 12 columns instead of 11)\n    Line #304 (got 12 columns instead of 11)\n    Line #305 (got 12 columns instead of 11)\n    Line #306 (got 12 columns instead of 11)\n    Line #307 (got 12 columns instead of 11)\n    Line #308 (got 12 columns instead of 11)\n    Line #309 (got 12 columns instead of 11)\n    Line #310 (got 12 columns instead of 11)\n    Line #311 (got 12 columns instead of 11)\n    Line #312 (got 12 columns instead of 11)\n    Line #313 (got 12 columns instead of 11)\n    Line #314 (got 12 columns instead of 11)\n    Line #315 (got 12 columns instead of 11)\n    Line #316 (got 12 columns instead of 11)\n    Line #317 (got 12 columns instead of 11)\n    Line #318 (got 12 columns instead of 11)\n    Line #319 (got 12 columns instead of 11)\n    Line #320 (got 12 columns instead of 11)\n    Line #321 (got 12 columns instead of 11)\n    Line #322 (got 12 columns instead of 11)\n    Line #323 (got 12 columns instead of 11)\n    Line #324 (got 12 columns instead of 11)\n    Line #325 (got 12 columns instead of 11)\n    Line #326 (got 12 columns instead of 11)\n    Line #327 (got 12 columns instead of 11)\n    Line #328 (got 12 columns instead of 11)\n    Line #329 (got 12 columns instead of 11)\n    Line #330 (got 12 columns instead of 11)\n    Line #331 (got 12 columns instead of 11)\n    Line #332 (got 12 columns instead of 11)\n    Line #333 (got 12 columns instead of 11)\n    Line #334 (got 12 columns instead of 11)\n    Line #335 (got 12 columns instead of 11)\n    Line #336 (got 12 columns instead of 11)\n    Line #337 (got 12 columns instead of 11)\n    Line #338 (got 12 columns instead of 11)\n    Line #339 (got 12 columns instead of 11)\n    Line #340 (got 12 columns instead of 11)\n    Line #341 (got 12 columns instead of 11)\n    Line #342 (got 12 columns instead of 11)\n    Line #343 (got 12 columns instead of 11)\n    Line #344 (got 12 columns instead of 11)\n    Line #345 (got 12 columns instead of 11)\n    Line #346 (got 12 columns instead of 11)\n    Line #347 (got 12 columns instead of 11)\n    Line #348 (got 12 columns instead of 11)\n    Line #349 (got 12 columns instead of 11)\n    Line #350 (got 12 columns instead of 11)\n    Line #351 (got 12 columns instead of 11)\n    Line #352 (got 12 columns instead of 11)\n    Line #353 (got 12 columns instead of 11)\n    Line #354 (got 12 columns instead of 11)\n    Line #355 (got 12 columns instead of 11)\n    Line #356 (got 12 columns instead of 11)\n    Line #357 (got 12 columns instead of 11)\n    Line #358 (got 12 columns instead of 11)\n    Line #359 (got 12 columns instead of 11)\n    Line #360 (got 12 columns instead of 11)\n    Line #361 (got 12 columns instead of 11)\n    Line #362 (got 12 columns instead of 11)\n    Line #363 (got 12 columns instead of 11)\n    Line #364 (got 12 columns instead of 11)\n    Line #365 (got 12 columns instead of 11)\n    Line #366 (got 12 columns instead of 11)\n    Line #367 (got 12 columns instead of 11)\n    Line #368 (got 12 columns instead of 11)\n    Line #369 (got 12 columns instead of 11)\n    Line #370 (got 12 columns instead of 11)\n    Line #371 (got 12 columns instead of 11)\n    Line #372 (got 12 columns instead of 11)\n    Line #373 (got 12 columns instead of 11)\n    Line #374 (got 12 columns instead of 11)\n    Line #375 (got 12 columns instead of 11)\n    Line #376 (got 12 columns instead of 11)\n    Line #377 (got 12 columns instead of 11)\n    Line #378 (got 12 columns instead of 11)\n    Line #379 (got 12 columns instead of 11)\n    Line #380 (got 12 columns instead of 11)\n    Line #381 (got 12 columns instead of 11)\n    Line #382 (got 12 columns instead of 11)\n    Line #383 (got 12 columns instead of 11)\n    Line #384 (got 12 columns instead of 11)\n    Line #385 (got 12 columns instead of 11)\n    Line #386 (got 12 columns instead of 11)\n    Line #387 (got 12 columns instead of 11)\n    Line #388 (got 12 columns instead of 11)\n    Line #389 (got 12 columns instead of 11)\n    Line #390 (got 12 columns instead of 11)\n    Line #391 (got 12 columns instead of 11)\n    Line #392 (got 12 columns instead of 11)\n    Line #393 (got 12 columns instead of 11)\n    Line #394 (got 12 columns instead of 11)\n    Line #395 (got 12 columns instead of 11)\n    Line #396 (got 12 columns instead of 11)\n    Line #397 (got 12 columns instead of 11)\n    Line #398 (got 12 columns instead of 11)\n    Line #399 (got 12 columns instead of 11)\n    Line #400 (got 12 columns instead of 11)\n    Line #401 (got 12 columns instead of 11)\n    Line #402 (got 12 columns instead of 11)\n    Line #403 (got 12 columns instead of 11)\n    Line #404 (got 12 columns instead of 11)\n    Line #405 (got 12 columns instead of 11)\n    Line #406 (got 12 columns instead of 11)\n    Line #407 (got 12 columns instead of 11)\n    Line #408 (got 12 columns instead of 11)\n    Line #409 (got 12 columns instead of 11)\n    Line #410 (got 12 columns instead of 11)\n    Line #411 (got 12 columns instead of 11)\n    Line #412 (got 12 columns instead of 11)\n    Line #413 (got 12 columns instead of 11)\n    Line #414 (got 12 columns instead of 11)\n    Line #415 (got 12 columns instead of 11)\n    Line #416 (got 12 columns instead of 11)\n    Line #417 (got 12 columns instead of 11)\n    Line #418 (got 12 columns instead of 11)\n    Line #419 (got 12 columns instead of 11)\n    Line #420 (got 12 columns instead of 11)\n    Line #421 (got 12 columns instead of 11)\n    Line #422 (got 12 columns instead of 11)\n    Line #423 (got 12 columns instead of 11)\n    Line #424 (got 12 columns instead of 11)\n    Line #425 (got 12 columns instead of 11)\n    Line #426 (got 12 columns instead of 11)\n    Line #427 (got 12 columns instead of 11)\n    Line #428 (got 12 columns instead of 11)\n    Line #429 (got 12 columns instead of 11)\n    Line #430 (got 12 columns instead of 11)\n    Line #431 (got 12 columns instead of 11)\n    Line #432 (got 12 columns instead of 11)\n    Line #433 (got 12 columns instead of 11)\n    Line #434 (got 12 columns instead of 11)\n    Line #435 (got 12 columns instead of 11)\n    Line #436 (got 12 columns instead of 11)\n    Line #437 (got 12 columns instead of 11)\n    Line #438 (got 12 columns instead of 11)\n    Line #439 (got 12 columns instead of 11)\n    Line #440 (got 12 columns instead of 11)\n    Line #441 (got 12 columns instead of 11)\n    Line #442 (got 12 columns instead of 11)\n    Line #443 (got 12 columns instead of 11)\n    Line #444 (got 12 columns instead of 11)\n    Line #445 (got 12 columns instead of 11)\n    Line #446 (got 12 columns instead of 11)\n    Line #447 (got 12 columns instead of 11)\n    Line #448 (got 12 columns instead of 11)\n    Line #449 (got 12 columns instead of 11)\n    Line #450 (got 12 columns instead of 11)\n    Line #451 (got 12 columns instead of 11)\n    Line #452 (got 12 columns instead of 11)\n    Line #453 (got 12 columns instead of 11)\n    Line #454 (got 12 columns instead of 11)\n    Line #455 (got 12 columns instead of 11)\n    Line #456 (got 12 columns instead of 11)\n    Line #457 (got 12 columns instead of 11)\n    Line #458 (got 12 columns instead of 11)\n    Line #459 (got 12 columns instead of 11)\n    Line #460 (got 12 columns instead of 11)\n    Line #461 (got 12 columns instead of 11)\n    Line #462 (got 12 columns instead of 11)\n    Line #463 (got 12 columns instead of 11)\n    Line #464 (got 12 columns instead of 11)\n    Line #465 (got 12 columns instead of 11)\n    Line #466 (got 12 columns instead of 11)\n    Line #467 (got 12 columns instead of 11)\n    Line #468 (got 12 columns instead of 11)\n    Line #469 (got 12 columns instead of 11)\n    Line #470 (got 12 columns instead of 11)\n    Line #471 (got 12 columns instead of 11)\n    Line #472 (got 12 columns instead of 11)\n    Line #473 (got 12 columns instead of 11)\n    Line #474 (got 12 columns instead of 11)\n    Line #475 (got 12 columns instead of 11)\n    Line #476 (got 12 columns instead of 11)\n    Line #477 (got 12 columns instead of 11)\n    Line #478 (got 12 columns instead of 11)\n    Line #479 (got 12 columns instead of 11)\n    Line #480 (got 12 columns instead of 11)\n    Line #481 (got 12 columns instead of 11)\n    Line #482 (got 12 columns instead of 11)\n    Line #483 (got 12 columns instead of 11)\n    Line #484 (got 12 columns instead of 11)\n    Line #485 (got 12 columns instead of 11)\n    Line #486 (got 12 columns instead of 11)\n    Line #487 (got 12 columns instead of 11)\n    Line #488 (got 12 columns instead of 11)\n    Line #489 (got 12 columns instead of 11)\n    Line #490 (got 12 columns instead of 11)\n    Line #491 (got 12 columns instead of 11)\n    Line #492 (got 12 columns instead of 11)\n    Line #493 (got 12 columns instead of 11)\n    Line #494 (got 12 columns instead of 11)\n    Line #495 (got 12 columns instead of 11)\n    Line #496 (got 12 columns instead of 11)\n    Line #497 (got 12 columns instead of 11)\n    Line #498 (got 12 columns instead of 11)\n    Line #499 (got 12 columns instead of 11)\n    Line #500 (got 12 columns instead of 11)\n    Line #501 (got 12 columns instead of 11)\n    Line #502 (got 12 columns instead of 11)\n    Line #503 (got 12 columns instead of 11)\n    Line #504 (got 12 columns instead of 11)\n    Line #505 (got 12 columns instead of 11)\n    Line #506 (got 12 columns instead of 11)\n    Line #507 (got 12 columns instead of 11)\n    Line #508 (got 12 columns instead of 11)\n    Line #509 (got 12 columns instead of 11)\n    Line #510 (got 12 columns instead of 11)\n    Line #511 (got 12 columns instead of 11)\n    Line #512 (got 12 columns instead of 11)\n    Line #513 (got 12 columns instead of 11)\n    Line #514 (got 12 columns instead of 11)\n    Line #515 (got 12 columns instead of 11)\n    Line #516 (got 12 columns instead of 11)\n    Line #517 (got 12 columns instead of 11)\n    Line #518 (got 12 columns instead of 11)\n    Line #519 (got 12 columns instead of 11)\n    Line #520 (got 12 columns instead of 11)\n    Line #521 (got 12 columns instead of 11)\n    Line #522 (got 12 columns instead of 11)\n    Line #523 (got 12 columns instead of 11)\n    Line #524 (got 12 columns instead of 11)\n    Line #525 (got 12 columns instead of 11)\n    Line #526 (got 12 columns instead of 11)\n    Line #527 (got 12 columns instead of 11)\n    Line #528 (got 12 columns instead of 11)\n    Line #529 (got 12 columns instead of 11)\n    Line #530 (got 12 columns instead of 11)\n    Line #531 (got 12 columns instead of 11)\n    Line #532 (got 12 columns instead of 11)\n    Line #533 (got 12 columns instead of 11)\n    Line #534 (got 12 columns instead of 11)\n    Line #535 (got 12 columns instead of 11)\n    Line #536 (got 12 columns instead of 11)\n    Line #537 (got 12 columns instead of 11)\n    Line #538 (got 12 columns instead of 11)\n    Line #539 (got 12 columns instead of 11)\n    Line #540 (got 12 columns instead of 11)\n    Line #541 (got 12 columns instead of 11)\n    Line #542 (got 12 columns instead of 11)\n    Line #543 (got 12 columns instead of 11)\n    Line #544 (got 12 columns instead of 11)\n    Line #545 (got 12 columns instead of 11)\n    Line #546 (got 12 columns instead of 11)\n    Line #547 (got 12 columns instead of 11)\n    Line #548 (got 12 columns instead of 11)\n    Line #549 (got 12 columns instead of 11)\n    Line #550 (got 12 columns instead of 11)\n    Line #551 (got 12 columns instead of 11)\n    Line #552 (got 12 columns instead of 11)\n    Line #553 (got 12 columns instead of 11)\n    Line #554 (got 12 columns instead of 11)\n    Line #555 (got 12 columns instead of 11)\n    Line #556 (got 12 columns instead of 11)\n    Line #557 (got 12 columns instead of 11)\n    Line #558 (got 12 columns instead of 11)\n    Line #559 (got 12 columns instead of 11)\n    Line #560 (got 12 columns instead of 11)\n    Line #561 (got 12 columns instead of 11)\n    Line #562 (got 12 columns instead of 11)\n    Line #563 (got 12 columns instead of 11)\n    Line #564 (got 12 columns instead of 11)\n    Line #565 (got 12 columns instead of 11)\n    Line #566 (got 12 columns instead of 11)\n    Line #567 (got 12 columns instead of 11)\n    Line #568 (got 12 columns instead of 11)\n    Line #569 (got 12 columns instead of 11)\n    Line #570 (got 12 columns instead of 11)\n    Line #571 (got 12 columns instead of 11)\n    Line #572 (got 12 columns instead of 11)\n    Line #573 (got 12 columns instead of 11)\n    Line #574 (got 12 columns instead of 11)\n    Line #575 (got 12 columns instead of 11)\n    Line #576 (got 12 columns instead of 11)\n    Line #577 (got 12 columns instead of 11)\n    Line #578 (got 12 columns instead of 11)\n    Line #579 (got 12 columns instead of 11)\n    Line #580 (got 12 columns instead of 11)\n    Line #581 (got 12 columns instead of 11)\n    Line #582 (got 12 columns instead of 11)\n    Line #583 (got 12 columns instead of 11)\n    Line #584 (got 12 columns instead of 11)\n    Line #585 (got 12 columns instead of 11)\n    Line #586 (got 12 columns instead of 11)\n    Line #587 (got 12 columns instead of 11)\n    Line #588 (got 12 columns instead of 11)\n    Line #589 (got 12 columns instead of 11)\n    Line #590 (got 12 columns instead of 11)\n    Line #591 (got 12 columns instead of 11)\n    Line #592 (got 12 columns instead of 11)\n    Line #593 (got 12 columns instead of 11)\n    Line #594 (got 12 columns instead of 11)\n    Line #595 (got 12 columns instead of 11)\n    Line #596 (got 12 columns instead of 11)\n    Line #597 (got 12 columns instead of 11)\n    Line #598 (got 12 columns instead of 11)\n    Line #599 (got 12 columns instead of 11)\n    Line #600 (got 12 columns instead of 11)\n    Line #601 (got 12 columns instead of 11)\n    Line #602 (got 12 columns instead of 11)\n    Line #603 (got 12 columns instead of 11)\n    Line #604 (got 12 columns instead of 11)\n    Line #605 (got 12 columns instead of 11)\n    Line #606 (got 12 columns instead of 11)\n    Line #607 (got 12 columns instead of 11)\n    Line #608 (got 12 columns instead of 11)\n    Line #609 (got 12 columns instead of 11)\n    Line #610 (got 12 columns instead of 11)\n    Line #611 (got 12 columns instead of 11)\n    Line #612 (got 12 columns instead of 11)\n    Line #613 (got 12 columns instead of 11)\n    Line #614 (got 12 columns instead of 11)\n    Line #615 (got 12 columns instead of 11)\n    Line #616 (got 12 columns instead of 11)\n    Line #617 (got 12 columns instead of 11)\n    Line #618 (got 12 columns instead of 11)\n    Line #619 (got 12 columns instead of 11)\n    Line #620 (got 12 columns instead of 11)\n    Line #621 (got 12 columns instead of 11)\n    Line #622 (got 12 columns instead of 11)\n    Line #623 (got 12 columns instead of 11)\n    Line #624 (got 12 columns instead of 11)\n    Line #625 (got 12 columns instead of 11)\n    Line #626 (got 12 columns instead of 11)\n    Line #627 (got 12 columns instead of 11)\n    Line #628 (got 12 columns instead of 11)\n    Line #629 (got 12 columns instead of 11)\n    Line #630 (got 12 columns instead of 11)\n    Line #631 (got 12 columns instead of 11)\n    Line #632 (got 12 columns instead of 11)\n    Line #633 (got 12 columns instead of 11)\n    Line #634 (got 12 columns instead of 11)\n    Line #635 (got 12 columns instead of 11)\n    Line #636 (got 12 columns instead of 11)\n    Line #637 (got 12 columns instead of 11)\n    Line #638 (got 12 columns instead of 11)\n    Line #639 (got 12 columns instead of 11)\n    Line #640 (got 12 columns instead of 11)\n    Line #641 (got 12 columns instead of 11)\n    Line #642 (got 12 columns instead of 11)\n    Line #643 (got 12 columns instead of 11)\n    Line #644 (got 12 columns instead of 11)\n    Line #645 (got 12 columns instead of 11)\n    Line #646 (got 12 columns instead of 11)\n    Line #647 (got 12 columns instead of 11)\n    Line #648 (got 12 columns instead of 11)\n    Line #649 (got 12 columns instead of 11)\n    Line #650 (got 12 columns instead of 11)\n    Line #651 (got 12 columns instead of 11)\n    Line #652 (got 12 columns instead of 11)\n    Line #653 (got 12 columns instead of 11)\n    Line #654 (got 12 columns instead of 11)\n    Line #655 (got 12 columns instead of 11)\n    Line #656 (got 12 columns instead of 11)\n    Line #657 (got 12 columns instead of 11)\n    Line #658 (got 12 columns instead of 11)\n    Line #659 (got 12 columns instead of 11)\n    Line #660 (got 12 columns instead of 11)\n    Line #661 (got 12 columns instead of 11)\n    Line #662 (got 12 columns instead of 11)\n    Line #663 (got 12 columns instead of 11)\n    Line #664 (got 12 columns instead of 11)\n    Line #665 (got 12 columns instead of 11)\n    Line #666 (got 12 columns instead of 11)\n    Line #667 (got 12 columns instead of 11)\n    Line #668 (got 12 columns instead of 11)\n    Line #669 (got 12 columns instead of 11)\n    Line #670 (got 12 columns instead of 11)\n    Line #671 (got 12 columns instead of 11)\n    Line #672 (got 12 columns instead of 11)\n    Line #673 (got 12 columns instead of 11)\n    Line #674 (got 12 columns instead of 11)\n    Line #675 (got 12 columns instead of 11)\n    Line #676 (got 12 columns instead of 11)\n    Line #677 (got 12 columns instead of 11)\n    Line #678 (got 12 columns instead of 11)\n    Line #679 (got 12 columns instead of 11)\n    Line #680 (got 12 columns instead of 11)\n    Line #681 (got 12 columns instead of 11)\n    Line #682 (got 12 columns instead of 11)\n    Line #683 (got 12 columns instead of 11)\n    Line #684 (got 12 columns instead of 11)\n    Line #685 (got 12 columns instead of 11)\n    Line #686 (got 12 columns instead of 11)\n    Line #687 (got 12 columns instead of 11)\n    Line #688 (got 12 columns instead of 11)\n    Line #689 (got 12 columns instead of 11)\n    Line #690 (got 12 columns instead of 11)\n    Line #691 (got 12 columns instead of 11)\n    Line #692 (got 12 columns instead of 11)\n    Line #693 (got 12 columns instead of 11)\n    Line #694 (got 12 columns instead of 11)\n    Line #695 (got 12 columns instead of 11)\n    Line #696 (got 12 columns instead of 11)\n    Line #697 (got 12 columns instead of 11)\n    Line #698 (got 12 columns instead of 11)\n    Line #699 (got 12 columns instead of 11)\n    Line #700 (got 12 columns instead of 11)\n    Line #701 (got 12 columns instead of 11)\n    Line #702 (got 12 columns instead of 11)\n    Line #703 (got 12 columns instead of 11)\n    Line #704 (got 12 columns instead of 11)\n    Line #705 (got 12 columns instead of 11)\n    Line #706 (got 12 columns instead of 11)\n    Line #707 (got 12 columns instead of 11)\n    Line #708 (got 12 columns instead of 11)\n    Line #709 (got 12 columns instead of 11)\n    Line #710 (got 12 columns instead of 11)\n    Line #711 (got 12 columns instead of 11)\n    Line #712 (got 12 columns instead of 11)\n    Line #713 (got 12 columns instead of 11)\n    Line #714 (got 12 columns instead of 11)\n    Line #715 (got 12 columns instead of 11)\n    Line #716 (got 12 columns instead of 11)\n    Line #717 (got 12 columns instead of 11)\n    Line #718 (got 12 columns instead of 11)\n    Line #719 (got 12 columns instead of 11)\n    Line #720 (got 12 columns instead of 11)\n    Line #721 (got 12 columns instead of 11)\n    Line #722 (got 12 columns instead of 11)\n    Line #723 (got 12 columns instead of 11)\n    Line #724 (got 12 columns instead of 11)\n    Line #725 (got 12 columns instead of 11)\n    Line #726 (got 12 columns instead of 11)\n    Line #727 (got 12 columns instead of 11)\n    Line #728 (got 12 columns instead of 11)\n    Line #729 (got 12 columns instead of 11)\n    Line #730 (got 12 columns instead of 11)\n    Line #731 (got 12 columns instead of 11)\n    Line #732 (got 12 columns instead of 11)\n    Line #733 (got 12 columns instead of 11)\n    Line #734 (got 12 columns instead of 11)\n    Line #735 (got 12 columns instead of 11)\n    Line #736 (got 12 columns instead of 11)\n    Line #737 (got 12 columns instead of 11)\n    Line #738 (got 12 columns instead of 11)\n    Line #739 (got 12 columns instead of 11)\n    Line #740 (got 12 columns instead of 11)\n    Line #741 (got 12 columns instead of 11)\n    Line #742 (got 12 columns instead of 11)\n    Line #743 (got 12 columns instead of 11)\n    Line #744 (got 12 columns instead of 11)\n    Line #745 (got 12 columns instead of 11)\n    Line #746 (got 12 columns instead of 11)\n    Line #747 (got 12 columns instead of 11)\n    Line #748 (got 12 columns instead of 11)\n    Line #749 (got 12 columns instead of 11)\n    Line #750 (got 12 columns instead of 11)\n    Line #751 (got 12 columns instead of 11)\n    Line #752 (got 12 columns instead of 11)\n    Line #753 (got 12 columns instead of 11)\n    Line #754 (got 12 columns instead of 11)\n    Line #755 (got 12 columns instead of 11)\n    Line #756 (got 12 columns instead of 11)\n    Line #757 (got 12 columns instead of 11)\n    Line #758 (got 12 columns instead of 11)\n    Line #759 (got 12 columns instead of 11)\n    Line #760 (got 12 columns instead of 11)\n    Line #761 (got 12 columns instead of 11)\n    Line #762 (got 12 columns instead of 11)\n    Line #763 (got 12 columns instead of 11)\n    Line #764 (got 12 columns instead of 11)\n    Line #765 (got 12 columns instead of 11)\n    Line #766 (got 12 columns instead of 11)\n    Line #767 (got 12 columns instead of 11)\n    Line #768 (got 12 columns instead of 11)\n    Line #769 (got 12 columns instead of 11)\n    Line #770 (got 12 columns instead of 11)\n    Line #771 (got 12 columns instead of 11)\n    Line #772 (got 12 columns instead of 11)\n    Line #773 (got 12 columns instead of 11)\n    Line #774 (got 12 columns instead of 11)\n    Line #775 (got 12 columns instead of 11)\n    Line #776 (got 12 columns instead of 11)\n    Line #777 (got 12 columns instead of 11)\n    Line #778 (got 12 columns instead of 11)\n    Line #779 (got 12 columns instead of 11)\n    Line #780 (got 12 columns instead of 11)\n    Line #781 (got 12 columns instead of 11)\n    Line #782 (got 12 columns instead of 11)\n    Line #783 (got 12 columns instead of 11)\n    Line #784 (got 12 columns instead of 11)\n    Line #785 (got 12 columns instead of 11)\n    Line #786 (got 12 columns instead of 11)\n    Line #787 (got 12 columns instead of 11)\n    Line #788 (got 12 columns instead of 11)\n    Line #789 (got 12 columns instead of 11)\n    Line #790 (got 12 columns instead of 11)\n    Line #791 (got 12 columns instead of 11)\n    Line #792 (got 12 columns instead of 11)\n    Line #793 (got 12 columns instead of 11)\n    Line #794 (got 12 columns instead of 11)\n    Line #795 (got 12 columns instead of 11)\n    Line #796 (got 12 columns instead of 11)\n    Line #797 (got 12 columns instead of 11)\n    Line #798 (got 12 columns instead of 11)\n    Line #799 (got 12 columns instead of 11)\n    Line #800 (got 12 columns instead of 11)\n    Line #801 (got 12 columns instead of 11)\n    Line #802 (got 12 columns instead of 11)\n    Line #803 (got 12 columns instead of 11)\n    Line #804 (got 12 columns instead of 11)\n    Line #805 (got 12 columns instead of 11)\n    Line #806 (got 12 columns instead of 11)\n    Line #807 (got 12 columns instead of 11)\n    Line #808 (got 12 columns instead of 11)\n    Line #809 (got 12 columns instead of 11)\n    Line #810 (got 12 columns instead of 11)\n    Line #811 (got 12 columns instead of 11)\n    Line #812 (got 12 columns instead of 11)\n    Line #813 (got 12 columns instead of 11)\n    Line #814 (got 12 columns instead of 11)\n    Line #815 (got 12 columns instead of 11)\n    Line #816 (got 12 columns instead of 11)\n    Line #817 (got 12 columns instead of 11)\n    Line #818 (got 12 columns instead of 11)\n    Line #819 (got 12 columns instead of 11)\n    Line #820 (got 12 columns instead of 11)\n    Line #821 (got 12 columns instead of 11)\n    Line #822 (got 12 columns instead of 11)\n    Line #823 (got 12 columns instead of 11)\n    Line #824 (got 12 columns instead of 11)\n    Line #825 (got 12 columns instead of 11)\n    Line #826 (got 12 columns instead of 11)\n    Line #827 (got 12 columns instead of 11)\n    Line #828 (got 12 columns instead of 11)\n    Line #829 (got 12 columns instead of 11)\n    Line #830 (got 12 columns instead of 11)\n    Line #831 (got 12 columns instead of 11)\n    Line #832 (got 12 columns instead of 11)\n    Line #833 (got 12 columns instead of 11)\n    Line #834 (got 12 columns instead of 11)\n    Line #835 (got 12 columns instead of 11)\n    Line #836 (got 12 columns instead of 11)\n    Line #837 (got 12 columns instead of 11)\n    Line #838 (got 12 columns instead of 11)\n    Line #839 (got 12 columns instead of 11)\n    Line #840 (got 12 columns instead of 11)\n    Line #841 (got 12 columns instead of 11)\n    Line #842 (got 12 columns instead of 11)\n    Line #843 (got 12 columns instead of 11)\n    Line #844 (got 12 columns instead of 11)\n    Line #845 (got 12 columns instead of 11)\n    Line #846 (got 12 columns instead of 11)\n    Line #847 (got 12 columns instead of 11)\n    Line #848 (got 12 columns instead of 11)\n    Line #849 (got 12 columns instead of 11)\n    Line #850 (got 12 columns instead of 11)\n    Line #851 (got 12 columns instead of 11)\n    Line #852 (got 12 columns instead of 11)\n    Line #853 (got 12 columns instead of 11)\n    Line #854 (got 12 columns instead of 11)\n    Line #855 (got 12 columns instead of 11)\n    Line #856 (got 12 columns instead of 11)\n    Line #857 (got 12 columns instead of 11)\n    Line #858 (got 12 columns instead of 11)\n    Line #859 (got 12 columns instead of 11)\n    Line #860 (got 12 columns instead of 11)\n    Line #861 (got 12 columns instead of 11)\n    Line #862 (got 12 columns instead of 11)\n    Line #863 (got 12 columns instead of 11)\n    Line #864 (got 12 columns instead of 11)\n    Line #865 (got 12 columns instead of 11)\n    Line #866 (got 12 columns instead of 11)\n    Line #867 (got 12 columns instead of 11)\n    Line #868 (got 12 columns instead of 11)\n    Line #869 (got 12 columns instead of 11)\n    Line #870 (got 12 columns instead of 11)\n    Line #871 (got 12 columns instead of 11)\n    Line #872 (got 12 columns instead of 11)\n    Line #873 (got 12 columns instead of 11)\n    Line #874 (got 12 columns instead of 11)\n    Line #875 (got 12 columns instead of 11)\n    Line #876 (got 12 columns instead of 11)\n    Line #877 (got 12 columns instead of 11)\n    Line #878 (got 12 columns instead of 11)\n    Line #879 (got 12 columns instead of 11)\n    Line #880 (got 12 columns instead of 11)\n    Line #881 (got 12 columns instead of 11)\n    Line #882 (got 12 columns instead of 11)\n    Line #883 (got 12 columns instead of 11)\n    Line #884 (got 12 columns instead of 11)\n    Line #885 (got 12 columns instead of 11)\n    Line #886 (got 12 columns instead of 11)\n    Line #887 (got 12 columns instead of 11)\n    Line #888 (got 12 columns instead of 11)\n    Line #889 (got 12 columns instead of 11)\n    Line #890 (got 12 columns instead of 11)\n    Line #891 (got 12 columns instead of 11)\n    Line #892 (got 12 columns instead of 11)"
     ]
    }
   ],
   "source": [
    "# Assign the filename: file\n",
    "file = 'titanic.csv'\n",
    "\n",
    "# Import file using np.recfromcsv: d\n",
    "d = np.recfromcsv(file, delimiter=',', names=True, dtype=None)\n",
    "\n",
    "# Print out first three entries of d\n",
    "print(d[:3])"
   ]
  },
  {
   "cell_type": "markdown",
   "metadata": {},
   "source": [
    "# Importing files using Pandas\n",
    "\n",
    "### Whata data scientist need?\n",
    "\n",
    "* Two-dimensional labeled data structure(s)\n",
    "* Columns of potentially different types\n",
    "* Manipulate, slice, reshape, groupby, join, merge\n",
    "* Perform statistics\n",
    "* Deal with time series data\n",
    "\n",
    "The data structure most relevant to the data manipulation and analysis workflow that Pandas offers is:\n",
    "\n",
    "**DATAFRAME =** pythonic analog of *R's data frame*\n",
    "\n",
    "*\"A matrix has rows and columns. A data frame has observations and variables\"* - Hadley Wickham\n",
    "\n",
    "Manipulating dataframes in pandas can be useful in all steps of the data scientific method. \n",
    "* Exploratory data analysis\n",
    "* Data wrangling\n",
    "* Data preprocessing\n",
    "* Building models\n",
    "* Visualization\n",
    "\n",
    "It is **standard and best practice** to use pandas to import flat files as dataframes."
   ]
  },
  {
   "cell_type": "code",
   "execution_count": 9,
   "metadata": {},
   "outputs": [],
   "source": [
    "import pandas as pd"
   ]
  },
  {
   "cell_type": "code",
   "execution_count": 13,
   "metadata": {},
   "outputs": [
    {
     "data": {
      "text/html": [
       "<div>\n",
       "<style scoped>\n",
       "    .dataframe tbody tr th:only-of-type {\n",
       "        vertical-align: middle;\n",
       "    }\n",
       "\n",
       "    .dataframe tbody tr th {\n",
       "        vertical-align: top;\n",
       "    }\n",
       "\n",
       "    .dataframe thead th {\n",
       "        text-align: right;\n",
       "    }\n",
       "</style>\n",
       "<table border=\"1\" class=\"dataframe\">\n",
       "  <thead>\n",
       "    <tr style=\"text-align: right;\">\n",
       "      <th></th>\n",
       "      <th>fixed acidity</th>\n",
       "      <th>volatile acidity</th>\n",
       "      <th>citric acid</th>\n",
       "      <th>residual sugar</th>\n",
       "      <th>chlorides</th>\n",
       "      <th>free sulfur dioxide</th>\n",
       "      <th>total sulfur dioxide</th>\n",
       "      <th>density</th>\n",
       "      <th>pH</th>\n",
       "      <th>sulphates</th>\n",
       "      <th>alcohol</th>\n",
       "      <th>quality</th>\n",
       "    </tr>\n",
       "  </thead>\n",
       "  <tbody>\n",
       "    <tr>\n",
       "      <th>NaN</th>\n",
       "      <td>7.4</td>\n",
       "      <td>0.70</td>\n",
       "      <td>0.00</td>\n",
       "      <td>1.9</td>\n",
       "      <td>0.076</td>\n",
       "      <td>11.0</td>\n",
       "      <td>34.0</td>\n",
       "      <td>0.9978</td>\n",
       "      <td>3.51</td>\n",
       "      <td>0.56</td>\n",
       "      <td>9.4</td>\n",
       "      <td>5</td>\n",
       "    </tr>\n",
       "    <tr>\n",
       "      <th>0.0</th>\n",
       "      <td>7.8</td>\n",
       "      <td>0.88</td>\n",
       "      <td>0.00</td>\n",
       "      <td>2.6</td>\n",
       "      <td>0.098</td>\n",
       "      <td>25.0</td>\n",
       "      <td>67.0</td>\n",
       "      <td>0.9968</td>\n",
       "      <td>3.20</td>\n",
       "      <td>0.68</td>\n",
       "      <td>9.8</td>\n",
       "      <td>5</td>\n",
       "    </tr>\n",
       "    <tr>\n",
       "      <th>1.0</th>\n",
       "      <td>7.8</td>\n",
       "      <td>0.76</td>\n",
       "      <td>0.04</td>\n",
       "      <td>2.3</td>\n",
       "      <td>0.092</td>\n",
       "      <td>15.0</td>\n",
       "      <td>54.0</td>\n",
       "      <td>0.9970</td>\n",
       "      <td>3.26</td>\n",
       "      <td>0.65</td>\n",
       "      <td>9.8</td>\n",
       "      <td>5</td>\n",
       "    </tr>\n",
       "    <tr>\n",
       "      <th>2.0</th>\n",
       "      <td>11.2</td>\n",
       "      <td>0.28</td>\n",
       "      <td>0.56</td>\n",
       "      <td>1.9</td>\n",
       "      <td>0.075</td>\n",
       "      <td>17.0</td>\n",
       "      <td>60.0</td>\n",
       "      <td>0.9980</td>\n",
       "      <td>3.16</td>\n",
       "      <td>0.58</td>\n",
       "      <td>9.8</td>\n",
       "      <td>6</td>\n",
       "    </tr>\n",
       "    <tr>\n",
       "      <th>3.0</th>\n",
       "      <td>7.4</td>\n",
       "      <td>0.70</td>\n",
       "      <td>0.00</td>\n",
       "      <td>1.9</td>\n",
       "      <td>0.076</td>\n",
       "      <td>11.0</td>\n",
       "      <td>34.0</td>\n",
       "      <td>0.9978</td>\n",
       "      <td>3.51</td>\n",
       "      <td>0.56</td>\n",
       "      <td>9.4</td>\n",
       "      <td>5</td>\n",
       "    </tr>\n",
       "  </tbody>\n",
       "</table>\n",
       "</div>"
      ],
      "text/plain": [
       "     fixed acidity  volatile acidity  citric acid  residual sugar  chlorides  \\\n",
       "NaN            7.4              0.70         0.00             1.9      0.076   \n",
       "0.0            7.8              0.88         0.00             2.6      0.098   \n",
       "1.0            7.8              0.76         0.04             2.3      0.092   \n",
       "2.0           11.2              0.28         0.56             1.9      0.075   \n",
       "3.0            7.4              0.70         0.00             1.9      0.076   \n",
       "\n",
       "     free sulfur dioxide  total sulfur dioxide  density    pH  sulphates  \\\n",
       "NaN                 11.0                  34.0   0.9978  3.51       0.56   \n",
       "0.0                 25.0                  67.0   0.9968  3.20       0.68   \n",
       "1.0                 15.0                  54.0   0.9970  3.26       0.65   \n",
       "2.0                 17.0                  60.0   0.9980  3.16       0.58   \n",
       "3.0                 11.0                  34.0   0.9978  3.51       0.56   \n",
       "\n",
       "     alcohol  quality  \n",
       "NaN      9.4        5  \n",
       "0.0      9.8        5  \n",
       "1.0      9.8        5  \n",
       "2.0      9.8        6  \n",
       "3.0      9.4        5  "
      ]
     },
     "execution_count": 13,
     "metadata": {},
     "output_type": "execute_result"
    }
   ],
   "source": [
    "filename = 'winequality-red.csv'\n",
    "data = pd.read_csv(filename)\n",
    "data.head()"
   ]
  },
  {
   "cell_type": "markdown",
   "metadata": {},
   "source": [
    "The **DataFrame** object in pandas is a more appropriate structure in which to store such data and, thankfully, we can easily import files of mixed data types as DataFrames using the pandas functions *read_csv()* and *read_table()*"
   ]
  },
  {
   "cell_type": "code",
   "execution_count": 14,
   "metadata": {},
   "outputs": [
    {
     "data": {
      "text/html": [
       "<div>\n",
       "<style scoped>\n",
       "    .dataframe tbody tr th:only-of-type {\n",
       "        vertical-align: middle;\n",
       "    }\n",
       "\n",
       "    .dataframe tbody tr th {\n",
       "        vertical-align: top;\n",
       "    }\n",
       "\n",
       "    .dataframe thead th {\n",
       "        text-align: right;\n",
       "    }\n",
       "</style>\n",
       "<table border=\"1\" class=\"dataframe\">\n",
       "  <thead>\n",
       "    <tr style=\"text-align: right;\">\n",
       "      <th></th>\n",
       "      <th>Unnamed: 0</th>\n",
       "      <th>PassengerId</th>\n",
       "      <th>Survived</th>\n",
       "      <th>Pclass</th>\n",
       "      <th>Sex</th>\n",
       "      <th>Age</th>\n",
       "      <th>SibSp</th>\n",
       "      <th>Parch</th>\n",
       "      <th>Ticket</th>\n",
       "      <th>Fare</th>\n",
       "      <th>Cabin</th>\n",
       "      <th>Embarked</th>\n",
       "    </tr>\n",
       "  </thead>\n",
       "  <tbody>\n",
       "    <tr>\n",
       "      <th>0</th>\n",
       "      <td>0</td>\n",
       "      <td>1</td>\n",
       "      <td>0</td>\n",
       "      <td>3</td>\n",
       "      <td>male</td>\n",
       "      <td>22.0</td>\n",
       "      <td>1</td>\n",
       "      <td>0</td>\n",
       "      <td>A/5 21171</td>\n",
       "      <td>7.2500</td>\n",
       "      <td>NaN</td>\n",
       "      <td>S</td>\n",
       "    </tr>\n",
       "    <tr>\n",
       "      <th>1</th>\n",
       "      <td>1</td>\n",
       "      <td>2</td>\n",
       "      <td>1</td>\n",
       "      <td>1</td>\n",
       "      <td>female</td>\n",
       "      <td>38.0</td>\n",
       "      <td>1</td>\n",
       "      <td>0</td>\n",
       "      <td>PC 17599</td>\n",
       "      <td>71.2833</td>\n",
       "      <td>C85</td>\n",
       "      <td>C</td>\n",
       "    </tr>\n",
       "    <tr>\n",
       "      <th>2</th>\n",
       "      <td>2</td>\n",
       "      <td>3</td>\n",
       "      <td>1</td>\n",
       "      <td>3</td>\n",
       "      <td>female</td>\n",
       "      <td>26.0</td>\n",
       "      <td>0</td>\n",
       "      <td>0</td>\n",
       "      <td>STON/O2. 3101282</td>\n",
       "      <td>7.9250</td>\n",
       "      <td>NaN</td>\n",
       "      <td>S</td>\n",
       "    </tr>\n",
       "    <tr>\n",
       "      <th>3</th>\n",
       "      <td>3</td>\n",
       "      <td>4</td>\n",
       "      <td>1</td>\n",
       "      <td>1</td>\n",
       "      <td>female</td>\n",
       "      <td>35.0</td>\n",
       "      <td>1</td>\n",
       "      <td>0</td>\n",
       "      <td>113803</td>\n",
       "      <td>53.1000</td>\n",
       "      <td>C123</td>\n",
       "      <td>S</td>\n",
       "    </tr>\n",
       "    <tr>\n",
       "      <th>4</th>\n",
       "      <td>4</td>\n",
       "      <td>5</td>\n",
       "      <td>0</td>\n",
       "      <td>3</td>\n",
       "      <td>male</td>\n",
       "      <td>35.0</td>\n",
       "      <td>0</td>\n",
       "      <td>0</td>\n",
       "      <td>373450</td>\n",
       "      <td>8.0500</td>\n",
       "      <td>NaN</td>\n",
       "      <td>S</td>\n",
       "    </tr>\n",
       "  </tbody>\n",
       "</table>\n",
       "</div>"
      ],
      "text/plain": [
       "   Unnamed: 0  PassengerId  Survived  Pclass     Sex   Age  SibSp  Parch  \\\n",
       "0           0            1         0       3    male  22.0      1      0   \n",
       "1           1            2         1       1  female  38.0      1      0   \n",
       "2           2            3         1       3  female  26.0      0      0   \n",
       "3           3            4         1       1  female  35.0      1      0   \n",
       "4           4            5         0       3    male  35.0      0      0   \n",
       "\n",
       "             Ticket     Fare Cabin Embarked  \n",
       "0         A/5 21171   7.2500   NaN        S  \n",
       "1          PC 17599  71.2833   C85        C  \n",
       "2  STON/O2. 3101282   7.9250   NaN        S  \n",
       "3            113803  53.1000  C123        S  \n",
       "4            373450   8.0500   NaN        S  "
      ]
     },
     "execution_count": 14,
     "metadata": {},
     "output_type": "execute_result"
    }
   ],
   "source": [
    "file = \"titanic.csv\"\n",
    "\n",
    "df = pd.read_csv(file)\n",
    "df.head()"
   ]
  },
  {
   "cell_type": "code",
   "execution_count": 15,
   "metadata": {},
   "outputs": [],
   "source": [
    "%config IPCompleter.greedy=True"
   ]
  },
  {
   "cell_type": "code",
   "execution_count": 16,
   "metadata": {},
   "outputs": [
    {
     "name": "stdout",
     "output_type": "stream",
     "text": [
      "<class 'numpy.ndarray'>\n"
     ]
    }
   ],
   "source": [
    "# Assign the filename: file\n",
    "file = 'MNIST.csv'\n",
    "\n",
    "# Read the first 5 rows of the file into a DataFrame: data\n",
    "data = pd.read_csv(file, nrows=5, header=None)\n",
    "\n",
    "# Build a numpy array from the DataFrame: data_array\n",
    "data_array = data.to_numpy()\n",
    "\n",
    "# Print the datatype of data_array to the shell\n",
    "print(type(data_array))"
   ]
  },
  {
   "cell_type": "code",
   "execution_count": 17,
   "metadata": {},
   "outputs": [
    {
     "name": "stdout",
     "output_type": "stream",
     "text": [
      "[[nan 1.0 0.0 ... '0.0.684' '0.0.685' '0.0.686']\n",
      " [0.0 0.0 0.0 ... '0.0' '0.0' '0.0']\n",
      " [1.0 1.0 0.0 ... '0.0' '0.0' '0.0']\n",
      " [2.0 4.0 0.0 ... '0.0' '0.0' '0.0']\n",
      " [3.0 0.0 0.0 ... '0.0' '0.0' '0.0']]\n"
     ]
    }
   ],
   "source": [
    "print(data_array)"
   ]
  },
  {
   "cell_type": "markdown",
   "metadata": {},
   "source": [
    "The pandas package is also great at dealing with many of the issues you will encounter when importing data as a data scientist, such as comments occurring in flat files, empty lines and missing values."
   ]
  },
  {
   "attachments": {
    "image.png": {
     "image/png": "[encoded data removed]"
    }
   },
   "cell_type": "markdown",
   "metadata": {},
   "source": [
    "# Introduction to other file types\n",
    "\n",
    "* Excel spreadsheets\n",
    "* MATLAB files\n",
    "* SAS files\n",
    "* Stata files\n",
    "* HDF5 files \n",
    "  - Will contain data from the Laser Interferometer Gravitational-Wave Observatory project\n",
    "  - Empirical support for Einstein's Theory of Gravitational Waves (2016) \n",
    "  - A more prevalent way to store large datasets\n",
    "* Pickled file\n",
    "  - File type native in Python\n",
    "  - **Motivation:** manny datatypes for which it isn't obvious how to store them\n",
    "  - **Serialize** = convert object to bytestream\n",
    "  \n",
    "JSONs are appropiate for Python dictionaries, if you want to import them into Python, you can serialize them. \n",
    "\n",
    "![image.png](attachment:image.png)"
   ]
  },
  {
   "cell_type": "markdown",
   "metadata": {},
   "source": [
    "In Chapter 1, you learned how to use the IPython magic command **! ls** to explore your current working directory. You can also do this natively in Python using the **library os**, which consists of *miscellaneous operating system interfaces*."
   ]
  },
  {
   "cell_type": "code",
   "execution_count": 18,
   "metadata": {},
   "outputs": [
    {
     "data": {
      "text/plain": [
       "['.ipynb_checkpoints',\n",
       " 'assets.datacamp.com',\n",
       " 'Bringing all together - Toolbox Part 2.ipynb',\n",
       " 'Default arguments, variable-length arguments and scope.ipynb',\n",
       " 'huck_finn.txt',\n",
       " 'Importing  Data.ipynb',\n",
       " 'IMPORTING DATACAMP FILES.ipynb',\n",
       " 'Lambda Functions.ipynb',\n",
       " 'MNIST.csv',\n",
       " 'MNIST_head.txt',\n",
       " 'moby_dick.txt',\n",
       " 'Python Data Science Toolbox (Part 2).ipynb',\n",
       " 'seaslug.txt',\n",
       " 'Streaming Data.ipynb',\n",
       " 'titanic.csv',\n",
       " 'winequality-names.txt',\n",
       " 'winequality-names.txt.bak',\n",
       " 'winequality-red.csv',\n",
       " 'winequality-white.csv']"
      ]
     },
     "execution_count": 18,
     "metadata": {},
     "output_type": "execute_result"
    }
   ],
   "source": [
    "import os\n",
    "wd = os.getcwd()\n",
    "os.listdir(wd)"
   ]
  },
  {
   "cell_type": "markdown",
   "metadata": {},
   "source": [
    "There are a number of datatypes that cannot be saved easily to flat files, such as lists and dictionaries. If you want your files to be human readable, you may want to save them as text files in a clever manner.\n",
    "\n",
    "If you merely want to be able to import the **JSON files into Python**, you can *serialize* them. All this means is converting the object into a sequence of bytes, or a bytestream."
   ]
  },
  {
   "cell_type": "code",
   "execution_count": 19,
   "metadata": {},
   "outputs": [
    {
     "ename": "FileNotFoundError",
     "evalue": "[Errno 2] No such file or directory: 'data.pkl'",
     "output_type": "error",
     "traceback": [
      "\u001b[1;31m---------------------------------------------------------------------------\u001b[0m",
      "\u001b[1;31mFileNotFoundError\u001b[0m                         Traceback (most recent call last)",
      "\u001b[1;32m<ipython-input-19-2e9073bcfd92>\u001b[0m in \u001b[0;36m<module>\u001b[1;34m\u001b[0m\n\u001b[0;32m      3\u001b[0m \u001b[1;33m\u001b[0m\u001b[0m\n\u001b[0;32m      4\u001b[0m \u001b[1;31m# Open pickle file and load data: d\u001b[0m\u001b[1;33m\u001b[0m\u001b[1;33m\u001b[0m\u001b[1;33m\u001b[0m\u001b[0m\n\u001b[1;32m----> 5\u001b[1;33m \u001b[1;32mwith\u001b[0m \u001b[0mopen\u001b[0m\u001b[1;33m(\u001b[0m\u001b[1;34m'data.pkl'\u001b[0m\u001b[1;33m,\u001b[0m \u001b[1;34m'rb'\u001b[0m\u001b[1;33m)\u001b[0m \u001b[1;32mas\u001b[0m \u001b[0mfile\u001b[0m\u001b[1;33m:\u001b[0m\u001b[1;33m\u001b[0m\u001b[1;33m\u001b[0m\u001b[0m\n\u001b[0m\u001b[0;32m      6\u001b[0m     \u001b[0md\u001b[0m \u001b[1;33m=\u001b[0m \u001b[0mpickle\u001b[0m\u001b[1;33m.\u001b[0m\u001b[0mload\u001b[0m\u001b[1;33m(\u001b[0m\u001b[0mfile\u001b[0m\u001b[1;33m)\u001b[0m\u001b[1;33m\u001b[0m\u001b[1;33m\u001b[0m\u001b[0m\n\u001b[0;32m      7\u001b[0m \u001b[1;33m\u001b[0m\u001b[0m\n",
      "\u001b[1;31mFileNotFoundError\u001b[0m: [Errno 2] No such file or directory: 'data.pkl'"
     ]
    }
   ],
   "source": [
    "# Import pickle package\n",
    "import pickle\n",
    "\n",
    "# Open pickle file and load data: d\n",
    "with open('data.pkl', 'rb') as file:\n",
    "    d = pickle.load(file)\n",
    "\n",
    "# Print d\n",
    "print(d)"
   ]
  },
  {
   "cell_type": "markdown",
   "metadata": {},
   "source": [
    "### Listing sheets in Excel files\n",
    "\n",
    "Given an **Excel file** imported into a variable *spreadsheet*, you can retrieve a list of the sheet names using the attribute **spreadsheet.sheet_names**."
   ]
  },
  {
   "cell_type": "code",
   "execution_count": 21,
   "metadata": {},
   "outputs": [
    {
     "name": "stdout",
     "output_type": "stream",
     "text": [
      "['2002', '2004']\n"
     ]
    }
   ],
   "source": [
    "# Import pandas\n",
    "import pandas as pd\n",
    "\n",
    "# Assign spreadsheet filename: file\n",
    "file = 'battledeath.xlsx'\n",
    "\n",
    "# Load spreadsheet: xls\n",
    "xls = pd.ExcelFile(file)\n",
    "\n",
    "# Print sheet names\n",
    "print(xls.sheet_names)"
   ]
  },
  {
   "cell_type": "code",
   "execution_count": 22,
   "metadata": {},
   "outputs": [
    {
     "name": "stdout",
     "output_type": "stream",
     "text": [
      "  War(country)      2004\n",
      "0  Afghanistan  9.451028\n",
      "1      Albania  0.130354\n",
      "2      Algeria  3.407277\n",
      "3      Andorra  0.000000\n",
      "4       Angola  2.597931\n",
      "  War, age-adjusted mortality due to       2002\n",
      "0                        Afghanistan  36.083990\n",
      "1                            Albania   0.128908\n",
      "2                            Algeria  18.314120\n",
      "3                            Andorra   0.000000\n",
      "4                             Angola  18.964560\n"
     ]
    }
   ],
   "source": [
    "# Load a sheet into a DataFrame by name: df1\n",
    "df1 = xls.parse('2004')\n",
    "\n",
    "# Print the head of the DataFrame df1\n",
    "print(df1.head())\n",
    "\n",
    "# Load a sheet into a DataFrame by index: df2\n",
    "df2 = xls.parse(0)\n",
    "\n",
    "# Print the head of the DataFrame df2\n",
    "print(df2.head())"
   ]
  },
  {
   "cell_type": "markdown",
   "metadata": {},
   "source": [
    "This time, however, you'll add the additional arguments **skiprows, names and usecols**. These skip rows, name the columns and designate which columns to parse, respectively. All these arguments can be assigned to lists containing the specific row numbers, strings and column numbers, as appropriate."
   ]
  },
  {
   "cell_type": "code",
   "execution_count": 23,
   "metadata": {},
   "outputs": [
    {
     "name": "stdout",
     "output_type": "stream",
     "text": [
      "               Country  AAM due to War (2002)\n",
      "0              Albania               0.128908\n",
      "1              Algeria              18.314120\n",
      "2              Andorra               0.000000\n",
      "3               Angola              18.964560\n",
      "4  Antigua and Barbuda               0.000000\n",
      "               Country\n",
      "0              Albania\n",
      "1              Algeria\n",
      "2              Andorra\n",
      "3               Angola\n",
      "4  Antigua and Barbuda\n"
     ]
    }
   ],
   "source": [
    "# Parse the first sheet and rename the columns: df1\n",
    "df1 = xls.parse(0, skiprows=[0], names=['Country','AAM due to War (2002)'])\n",
    "\n",
    "# Print the head of the DataFrame df1\n",
    "print(df1.head())\n",
    "\n",
    "# Parse the first column of the second sheet and rename the column: df2\n",
    "df2 = xls.parse(1, usecols=[0], skiprows=[0], names=['Country'])\n",
    "\n",
    "# Print the head of the DataFrame df2\n",
    "print(df2.head())\n"
   ]
  },
  {
   "cell_type": "markdown",
   "metadata": {},
   "source": [
    "## Importing SAS/Stata files using Pandas\n",
    "\n",
    "**SAS** - Statistical Analysis System\n",
    " - Business analytics and biostatistics\n",
    " - Used for:\n",
    "   * Advanced analytics\n",
    "   * Multivariate analyses\n",
    "   * Business intelligence\n",
    "   * Data management\n",
    "   * Predictive analytics\n",
    "   * Standard for statisticians to do computational analysis\n",
    " - Extension = .sas7bdat (dataset files) / .sas7bcat (catalog files)\n",
    "   \n",
    "**Stata** - \"Statistics\" + \"data\"\n",
    " - Academic Social Sciences Research\n",
    "\n",
    "The former is used a great deal in business analytics and biostatistics, while the latter is popular in academic social scieces research, such as economics and epidemiology. "
   ]
  },
  {
   "cell_type": "code",
   "execution_count": 28,
   "metadata": {},
   "outputs": [],
   "source": [
    "from sas7bdat import SAS7BDAT\n",
    "\n",
    "with SAS7BDAT('sales.sas7bdat') as file:\n",
    "    df_sas = file.to_data_frame()"
   ]
  },
  {
   "cell_type": "code",
   "execution_count": 30,
   "metadata": {},
   "outputs": [
    {
     "data": {
      "text/html": [
       "<div>\n",
       "<style scoped>\n",
       "    .dataframe tbody tr th:only-of-type {\n",
       "        vertical-align: middle;\n",
       "    }\n",
       "\n",
       "    .dataframe tbody tr th {\n",
       "        vertical-align: top;\n",
       "    }\n",
       "\n",
       "    .dataframe thead th {\n",
       "        text-align: right;\n",
       "    }\n",
       "</style>\n",
       "<table border=\"1\" class=\"dataframe\">\n",
       "  <thead>\n",
       "    <tr style=\"text-align: right;\">\n",
       "      <th></th>\n",
       "      <th>YEAR</th>\n",
       "      <th>P</th>\n",
       "      <th>S</th>\n",
       "    </tr>\n",
       "  </thead>\n",
       "  <tbody>\n",
       "    <tr>\n",
       "      <th>0</th>\n",
       "      <td>1950.0</td>\n",
       "      <td>12.9</td>\n",
       "      <td>181.899994</td>\n",
       "    </tr>\n",
       "    <tr>\n",
       "      <th>1</th>\n",
       "      <td>1951.0</td>\n",
       "      <td>11.9</td>\n",
       "      <td>245.000000</td>\n",
       "    </tr>\n",
       "    <tr>\n",
       "      <th>2</th>\n",
       "      <td>1952.0</td>\n",
       "      <td>10.7</td>\n",
       "      <td>250.199997</td>\n",
       "    </tr>\n",
       "    <tr>\n",
       "      <th>3</th>\n",
       "      <td>1953.0</td>\n",
       "      <td>11.3</td>\n",
       "      <td>265.899994</td>\n",
       "    </tr>\n",
       "    <tr>\n",
       "      <th>4</th>\n",
       "      <td>1954.0</td>\n",
       "      <td>11.2</td>\n",
       "      <td>248.500000</td>\n",
       "    </tr>\n",
       "  </tbody>\n",
       "</table>\n",
       "</div>"
      ],
      "text/plain": [
       "     YEAR     P           S\n",
       "0  1950.0  12.9  181.899994\n",
       "1  1951.0  11.9  245.000000\n",
       "2  1952.0  10.7  250.199997\n",
       "3  1953.0  11.3  265.899994\n",
       "4  1954.0  11.2  248.500000"
      ]
     },
     "execution_count": 30,
     "metadata": {},
     "output_type": "execute_result"
    }
   ],
   "source": [
    "df_sas.head()"
   ]
  },
  {
   "cell_type": "code",
   "execution_count": 27,
   "metadata": {},
   "outputs": [],
   "source": [
    "import pandas as pd\n",
    "data = pd.read_stata('disarea.dta')"
   ]
  },
  {
   "cell_type": "code",
   "execution_count": 29,
   "metadata": {},
   "outputs": [
    {
     "data": {
      "text/html": [
       "<div>\n",
       "<style scoped>\n",
       "    .dataframe tbody tr th:only-of-type {\n",
       "        vertical-align: middle;\n",
       "    }\n",
       "\n",
       "    .dataframe tbody tr th {\n",
       "        vertical-align: top;\n",
       "    }\n",
       "\n",
       "    .dataframe thead th {\n",
       "        text-align: right;\n",
       "    }\n",
       "</style>\n",
       "<table border=\"1\" class=\"dataframe\">\n",
       "  <thead>\n",
       "    <tr style=\"text-align: right;\">\n",
       "      <th></th>\n",
       "      <th>wbcode</th>\n",
       "      <th>country</th>\n",
       "      <th>disa1</th>\n",
       "      <th>disa2</th>\n",
       "      <th>disa3</th>\n",
       "      <th>disa4</th>\n",
       "      <th>disa5</th>\n",
       "      <th>disa6</th>\n",
       "      <th>disa7</th>\n",
       "      <th>disa8</th>\n",
       "      <th>...</th>\n",
       "      <th>disa16</th>\n",
       "      <th>disa17</th>\n",
       "      <th>disa18</th>\n",
       "      <th>disa19</th>\n",
       "      <th>disa20</th>\n",
       "      <th>disa21</th>\n",
       "      <th>disa22</th>\n",
       "      <th>disa23</th>\n",
       "      <th>disa24</th>\n",
       "      <th>disa25</th>\n",
       "    </tr>\n",
       "  </thead>\n",
       "  <tbody>\n",
       "    <tr>\n",
       "      <th>0</th>\n",
       "      <td>AFG</td>\n",
       "      <td>Afghanistan</td>\n",
       "      <td>0.00</td>\n",
       "      <td>0.00</td>\n",
       "      <td>0.76</td>\n",
       "      <td>0.73</td>\n",
       "      <td>0.0</td>\n",
       "      <td>0.00</td>\n",
       "      <td>0.00</td>\n",
       "      <td>0.0</td>\n",
       "      <td>...</td>\n",
       "      <td>0.0</td>\n",
       "      <td>0.0</td>\n",
       "      <td>0.0</td>\n",
       "      <td>0.00</td>\n",
       "      <td>0.00</td>\n",
       "      <td>0.0</td>\n",
       "      <td>0.00</td>\n",
       "      <td>0.02</td>\n",
       "      <td>0.00</td>\n",
       "      <td>0.00</td>\n",
       "    </tr>\n",
       "    <tr>\n",
       "      <th>1</th>\n",
       "      <td>AGO</td>\n",
       "      <td>Angola</td>\n",
       "      <td>0.32</td>\n",
       "      <td>0.02</td>\n",
       "      <td>0.56</td>\n",
       "      <td>0.00</td>\n",
       "      <td>0.0</td>\n",
       "      <td>0.00</td>\n",
       "      <td>0.56</td>\n",
       "      <td>0.0</td>\n",
       "      <td>...</td>\n",
       "      <td>0.0</td>\n",
       "      <td>0.4</td>\n",
       "      <td>0.0</td>\n",
       "      <td>0.61</td>\n",
       "      <td>0.00</td>\n",
       "      <td>0.0</td>\n",
       "      <td>0.99</td>\n",
       "      <td>0.98</td>\n",
       "      <td>0.61</td>\n",
       "      <td>0.00</td>\n",
       "    </tr>\n",
       "    <tr>\n",
       "      <th>2</th>\n",
       "      <td>ALB</td>\n",
       "      <td>Albania</td>\n",
       "      <td>0.00</td>\n",
       "      <td>0.00</td>\n",
       "      <td>0.02</td>\n",
       "      <td>0.00</td>\n",
       "      <td>0.0</td>\n",
       "      <td>0.00</td>\n",
       "      <td>0.00</td>\n",
       "      <td>0.0</td>\n",
       "      <td>...</td>\n",
       "      <td>0.0</td>\n",
       "      <td>0.0</td>\n",
       "      <td>0.0</td>\n",
       "      <td>0.00</td>\n",
       "      <td>0.00</td>\n",
       "      <td>0.0</td>\n",
       "      <td>0.00</td>\n",
       "      <td>0.00</td>\n",
       "      <td>0.00</td>\n",
       "      <td>0.16</td>\n",
       "    </tr>\n",
       "    <tr>\n",
       "      <th>3</th>\n",
       "      <td>ARE</td>\n",
       "      <td>United Arab Emirates</td>\n",
       "      <td>0.00</td>\n",
       "      <td>0.00</td>\n",
       "      <td>0.00</td>\n",
       "      <td>0.00</td>\n",
       "      <td>0.0</td>\n",
       "      <td>0.00</td>\n",
       "      <td>0.00</td>\n",
       "      <td>0.0</td>\n",
       "      <td>...</td>\n",
       "      <td>0.0</td>\n",
       "      <td>0.0</td>\n",
       "      <td>0.0</td>\n",
       "      <td>0.00</td>\n",
       "      <td>0.00</td>\n",
       "      <td>0.0</td>\n",
       "      <td>0.00</td>\n",
       "      <td>0.00</td>\n",
       "      <td>0.00</td>\n",
       "      <td>0.00</td>\n",
       "    </tr>\n",
       "    <tr>\n",
       "      <th>4</th>\n",
       "      <td>ARG</td>\n",
       "      <td>Argentina</td>\n",
       "      <td>0.00</td>\n",
       "      <td>0.24</td>\n",
       "      <td>0.24</td>\n",
       "      <td>0.00</td>\n",
       "      <td>0.0</td>\n",
       "      <td>0.23</td>\n",
       "      <td>0.00</td>\n",
       "      <td>0.0</td>\n",
       "      <td>...</td>\n",
       "      <td>0.0</td>\n",
       "      <td>0.0</td>\n",
       "      <td>0.0</td>\n",
       "      <td>0.00</td>\n",
       "      <td>0.05</td>\n",
       "      <td>0.0</td>\n",
       "      <td>0.00</td>\n",
       "      <td>0.01</td>\n",
       "      <td>0.00</td>\n",
       "      <td>0.11</td>\n",
       "    </tr>\n",
       "  </tbody>\n",
       "</table>\n",
       "<p>5 rows × 27 columns</p>\n",
       "</div>"
      ],
      "text/plain": [
       "  wbcode               country  disa1  disa2  disa3  disa4  disa5  disa6  \\\n",
       "0    AFG           Afghanistan   0.00   0.00   0.76   0.73    0.0   0.00   \n",
       "1    AGO                Angola   0.32   0.02   0.56   0.00    0.0   0.00   \n",
       "2    ALB               Albania   0.00   0.00   0.02   0.00    0.0   0.00   \n",
       "3    ARE  United Arab Emirates   0.00   0.00   0.00   0.00    0.0   0.00   \n",
       "4    ARG             Argentina   0.00   0.24   0.24   0.00    0.0   0.23   \n",
       "\n",
       "   disa7  disa8  ...  disa16  disa17  disa18  disa19  disa20  disa21  disa22  \\\n",
       "0   0.00    0.0  ...     0.0     0.0     0.0    0.00    0.00     0.0    0.00   \n",
       "1   0.56    0.0  ...     0.0     0.4     0.0    0.61    0.00     0.0    0.99   \n",
       "2   0.00    0.0  ...     0.0     0.0     0.0    0.00    0.00     0.0    0.00   \n",
       "3   0.00    0.0  ...     0.0     0.0     0.0    0.00    0.00     0.0    0.00   \n",
       "4   0.00    0.0  ...     0.0     0.0     0.0    0.00    0.05     0.0    0.00   \n",
       "\n",
       "   disa23  disa24  disa25  \n",
       "0    0.02    0.00    0.00  \n",
       "1    0.98    0.61    0.00  \n",
       "2    0.00    0.00    0.16  \n",
       "3    0.00    0.00    0.00  \n",
       "4    0.01    0.00    0.11  \n",
       "\n",
       "[5 rows x 27 columns]"
      ]
     },
     "execution_count": 29,
     "metadata": {},
     "output_type": "execute_result"
    }
   ],
   "source": [
    "data.head()"
   ]
  },
  {
   "cell_type": "markdown",
   "metadata": {},
   "source": [
    "The sales exercise are taking from this directory:\n",
    "\n",
    "- http://www.principlesofeconometrics.com/sas/"
   ]
  },
  {
   "cell_type": "code",
   "execution_count": 33,
   "metadata": {},
   "outputs": [
    {
     "name": "stdout",
     "output_type": "stream",
     "text": [
      "     YEAR     P           S\n",
      "0  1950.0  12.9  181.899994\n",
      "1  1951.0  11.9  245.000000\n",
      "2  1952.0  10.7  250.199997\n",
      "3  1953.0  11.3  265.899994\n",
      "4  1954.0  11.2  248.500000\n"
     ]
    }
   ],
   "source": [
    "# Import sas7bdat package\n",
    "from sas7bdat import SAS7BDAT\n",
    "import matplotlib.pyplot as plt\n",
    "%matplotlib inline\n",
    "\n",
    "# Save file to a DataFrame: df_sas\n",
    "with SAS7BDAT('sales.sas7bdat') as file:\n",
    "    df_sas = file.to_data_frame()\n",
    "\n",
    "# Print head of DataFrame\n",
    "print(df_sas.head())"
   ]
  },
  {
   "cell_type": "code",
   "execution_count": 34,
   "metadata": {},
   "outputs": [
    {
     "data": {
      "image/png": "[encoded data removed]",
      "text/plain": [
       "<Figure size 432x288 with 1 Axes>"
      ]
     },
     "metadata": {
      "needs_background": "light"
     },
     "output_type": "display_data"
    }
   ],
   "source": [
    "# Plot histogram of DataFrame features (pandas and pyplot already imported)\n",
    "pd.DataFrame.hist(df_sas[['P']])\n",
    "plt.ylabel('count')\n",
    "plt.show()"
   ]
  },
  {
   "cell_type": "markdown",
   "metadata": {},
   "source": [
    "## STATA\n",
    "\n",
    "The data consist of disease extents for several diseases in various countries; more information can be found:\n",
    " - https://www.hks.harvard.edu/centers/cid"
   ]
  },
  {
   "cell_type": "code",
   "execution_count": 35,
   "metadata": {},
   "outputs": [
    {
     "name": "stdout",
     "output_type": "stream",
     "text": [
      "  wbcode               country  disa1  disa2  disa3  disa4  disa5  disa6  \\\n",
      "0    AFG           Afghanistan   0.00   0.00   0.76   0.73    0.0   0.00   \n",
      "1    AGO                Angola   0.32   0.02   0.56   0.00    0.0   0.00   \n",
      "2    ALB               Albania   0.00   0.00   0.02   0.00    0.0   0.00   \n",
      "3    ARE  United Arab Emirates   0.00   0.00   0.00   0.00    0.0   0.00   \n",
      "4    ARG             Argentina   0.00   0.24   0.24   0.00    0.0   0.23   \n",
      "\n",
      "   disa7  disa8  ...  disa16  disa17  disa18  disa19  disa20  disa21  disa22  \\\n",
      "0   0.00    0.0  ...     0.0     0.0     0.0    0.00    0.00     0.0    0.00   \n",
      "1   0.56    0.0  ...     0.0     0.4     0.0    0.61    0.00     0.0    0.99   \n",
      "2   0.00    0.0  ...     0.0     0.0     0.0    0.00    0.00     0.0    0.00   \n",
      "3   0.00    0.0  ...     0.0     0.0     0.0    0.00    0.00     0.0    0.00   \n",
      "4   0.00    0.0  ...     0.0     0.0     0.0    0.00    0.05     0.0    0.00   \n",
      "\n",
      "   disa23  disa24  disa25  \n",
      "0    0.02    0.00    0.00  \n",
      "1    0.98    0.61    0.00  \n",
      "2    0.00    0.00    0.16  \n",
      "3    0.00    0.00    0.00  \n",
      "4    0.01    0.00    0.11  \n",
      "\n",
      "[5 rows x 27 columns]\n"
     ]
    },
    {
     "data": {
      "image/png": "[encoded data removed]",
      "text/plain": [
       "<Figure size 432x288 with 1 Axes>"
      ]
     },
     "metadata": {
      "needs_background": "light"
     },
     "output_type": "display_data"
    }
   ],
   "source": [
    "# Load Stata file into a pandas DataFrame: df\n",
    "df = pd.read_stata('disarea.dta')\n",
    "\n",
    "# Print the head of the DataFrame df\n",
    "print(df.head())\n",
    "\n",
    "# Plot histogram of one column of the DataFrame\n",
    "pd.DataFrame.hist(df[['disa10']])\n",
    "plt.xlabel('Extent of disease')\n",
    "plt.ylabel('Number of countries')\n",
    "plt.show()"
   ]
  },
  {
   "cell_type": "markdown",
   "metadata": {},
   "source": [
    "## Importing HDF5 files\n",
    "\n",
    "Consensus is rapidly converging on **Hierarchical Data Format version 5** as the standard mechanism for storing large quantities of numerical data.\n",
    "\n",
    "HDF5 can scale to exabytes."
   ]
  },
  {
   "cell_type": "code",
   "execution_count": 36,
   "metadata": {},
   "outputs": [],
   "source": [
    "import h5py"
   ]
  },
  {
   "cell_type": "code",
   "execution_count": 37,
   "metadata": {},
   "outputs": [
    {
     "name": "stdout",
     "output_type": "stream",
     "text": [
      "<class 'h5py._hl.files.File'>\n"
     ]
    }
   ],
   "source": [
    "filename = 'L-L1_LOSC_4_V1-1126259446-32.hdf5'\n",
    "data = h5py.File(filename, 'r') #'r' is to read\n",
    "print(type(data))"
   ]
  },
  {
   "cell_type": "markdown",
   "metadata": {},
   "source": [
    "### What is the structure of this file?\n",
    "\n",
    "You can explore it's hierarchical structure as you would that of a Python dictionary using method keys."
   ]
  },
  {
   "cell_type": "code",
   "execution_count": 38,
   "metadata": {},
   "outputs": [
    {
     "name": "stdout",
     "output_type": "stream",
     "text": [
      "meta\n",
      "quality\n",
      "strain\n"
     ]
    }
   ],
   "source": [
    "for key in data.keys():\n",
    "    print(key)"
   ]
  },
  {
   "cell_type": "markdown",
   "metadata": {},
   "source": [
    "Each of these is an HDF group. Think of these as directories.\n",
    "\n",
    "- **Meta =** contains meta-data for the file\n",
    "- **Quality =** contains information about data quality\n",
    "- **Strain =** contains 'strain data from the interferometer', the main measurement performed by LIGO."
   ]
  },
  {
   "cell_type": "code",
   "execution_count": 39,
   "metadata": {},
   "outputs": [
    {
     "name": "stdout",
     "output_type": "stream",
     "text": [
      "<class 'h5py._hl.group.Group'>\n"
     ]
    }
   ],
   "source": [
    "print(type(data['meta']))"
   ]
  },
  {
   "cell_type": "code",
   "execution_count": 40,
   "metadata": {},
   "outputs": [
    {
     "name": "stdout",
     "output_type": "stream",
     "text": [
      "Description\n",
      "DescriptionURL\n",
      "Detector\n",
      "Duration\n",
      "GPSstart\n",
      "Observatory\n",
      "Type\n",
      "UTCstart\n"
     ]
    }
   ],
   "source": [
    "for key in data['meta'].keys():\n",
    "    print(key)"
   ]
  },
  {
   "cell_type": "code",
   "execution_count": 41,
   "metadata": {},
   "outputs": [
    {
     "name": "stdout",
     "output_type": "stream",
     "text": [
      "b'Strain data time series from LIGO' b'L1'\n"
     ]
    },
    {
     "name": "stderr",
     "output_type": "stream",
     "text": [
      "C:\\Users\\raul.garcia.granados\\AppData\\Local\\anaconda3\\lib\\site-packages\\h5py\\_hl\\dataset.py:313: H5pyDeprecationWarning: dataset.value has been deprecated. Use dataset[()] instead.\n",
      "  \"Use dataset[()] instead.\", H5pyDeprecationWarning)\n"
     ]
    }
   ],
   "source": [
    "print(data['meta']['Description'].value, data['meta']['Detector'].value)"
   ]
  },
  {
   "cell_type": "markdown",
   "metadata": {},
   "source": [
    "You can find the LIGO data plus loads of documentation and tutorials:\n",
    "- https://www.gw-openscience.org/events/GW150914/\n",
    "There is also a great tutorial on Signal Processing with the data:\n",
    "- https://www.gw-openscience.org/GW150914data/LOSC_Event_tutorial_GW150914.html\n"
   ]
  },
  {
   "cell_type": "code",
   "execution_count": 42,
   "metadata": {},
   "outputs": [
    {
     "name": "stdout",
     "output_type": "stream",
     "text": [
      "Strain\n"
     ]
    },
    {
     "data": {
      "image/png": "[encoded data removed]",
      "text/plain": [
       "<Figure size 432x288 with 1 Axes>"
      ]
     },
     "metadata": {
      "needs_background": "light"
     },
     "output_type": "display_data"
    }
   ],
   "source": [
    "# Get the HDF5 group: group\n",
    "group = data['strain']\n",
    "\n",
    "# Check out keys of group\n",
    "for key in group.keys():\n",
    "    print(key)\n",
    "\n",
    "# Set variable equal to time series data: strain\n",
    "strain = data['strain']['Strain'].value\n",
    "\n",
    "# Set number of time points to sample: num_samples\n",
    "num_samples = 10000\n",
    "\n",
    "# Set time vector\n",
    "time = np.arange(0, 1, 1/num_samples)\n",
    "\n",
    "# Plot data\n",
    "plt.plot(time, strain[:num_samples])\n",
    "plt.xlabel('GPS Time (s)')\n",
    "plt.ylabel('strain')\n",
    "plt.show()\n"
   ]
  },
  {
   "cell_type": "markdown",
   "metadata": {},
   "source": [
    "## Importing MATLAB files\n",
    "\n",
    "**Matrix Laboratory** - a numerical computing environment that is an industry standard in the disciplines of engineering and science.\n",
    "\n",
    "- Powerful linear algebra\n",
    "- Matrix capabilities\n",
    "\n",
    "Data saved as **.mat** files\n",
    "\n",
    "Python **afficionados**, the standard library scipy has functions \n",
    "\n",
    "The Workspace contains:\n",
    " - Strings\n",
    " - Floats\n",
    " - Vectors\n",
    " - Arrays\n",
    " - Many other objects\n",
    " \n",
    "Working with a MATLAB file, we should expect to see a number of different variables and objects."
   ]
  },
  {
   "cell_type": "code",
   "execution_count": 44,
   "metadata": {},
   "outputs": [],
   "source": [
    "import scipy.io\n",
    "\n",
    "filename = 'ja_data2.mat'\n",
    "mat = scipy.io.loadmat(filename)"
   ]
  },
  {
   "cell_type": "code",
   "execution_count": 45,
   "metadata": {},
   "outputs": [
    {
     "name": "stdout",
     "output_type": "stream",
     "text": [
      "<class 'dict'>\n"
     ]
    }
   ],
   "source": [
    "print(type(mat))"
   ]
  },
  {
   "cell_type": "markdown",
   "metadata": {},
   "source": [
    "The Keys of the Python dictionary are the MATLAB variable names and the values of the Python dictionary are the objects that are assigned to the variables.\n",
    "\n",
    "- **keys =** MATLAB variable names\n",
    "- **values =** objects assigned to variables"
   ]
  },
  {
   "cell_type": "code",
   "execution_count": 47,
   "metadata": {},
   "outputs": [
    {
     "name": "stdout",
     "output_type": "stream",
     "text": [
      "__header__\n",
      "__version__\n",
      "__globals__\n",
      "rfpCyt\n",
      "rfpNuc\n",
      "cfpNuc\n",
      "cfpCyt\n",
      "yfpNuc\n",
      "yfpCyt\n",
      "CYratioCyt\n"
     ]
    }
   ],
   "source": [
    "for key in mat.keys():\n",
    "    print(key)"
   ]
  },
  {
   "cell_type": "markdown",
   "metadata": {},
   "source": [
    "This file contains gene expression data from the Albeck Lab at UC Davis. You can find the data and some great documentation:\n",
    "- https://www.mcb.ucdavis.edu/faculty-labs/albeck/workshop.htm"
   ]
  },
  {
   "cell_type": "code",
   "execution_count": 48,
   "metadata": {},
   "outputs": [
    {
     "name": "stdout",
     "output_type": "stream",
     "text": [
      "dict_keys(['__header__', '__version__', '__globals__', 'rfpCyt', 'rfpNuc', 'cfpNuc', 'cfpCyt', 'yfpNuc', 'yfpCyt', 'CYratioCyt'])\n",
      "<class 'numpy.ndarray'>\n",
      "(200, 137)\n"
     ]
    },
    {
     "data": {
      "image/png": "[encoded data removed]",
      "text/plain": [
       "<Figure size 432x288 with 1 Axes>"
      ]
     },
     "metadata": {
      "needs_background": "light"
     },
     "output_type": "display_data"
    }
   ],
   "source": [
    "# Print the keys of the MATLAB dictionary\n",
    "print(mat.keys())\n",
    "\n",
    "# Print the type of the value corresponding to the key 'CYratioCyt'\n",
    "print(type(mat['CYratioCyt']))\n",
    "\n",
    "# Print the shape of the value corresponding to the key 'CYratioCyt'\n",
    "print(np.shape(mat['CYratioCyt']))\n",
    "\n",
    "# Subset the array and plot it\n",
    "data = mat['CYratioCyt'][25, 5:]\n",
    "fig = plt.figure()\n",
    "plt.plot(data)\n",
    "plt.xlabel('time (min.)')\n",
    "plt.ylabel('normalized fluorescence (measure of expression)')\n",
    "plt.show()"
   ]
  },
  {
   "cell_type": "code",
   "execution_count": null,
   "metadata": {},
   "outputs": [],
   "source": []
  }
 ],
 "metadata": {
  "kernelspec": {
   "display_name": "Python 3",
   "language": "python",
   "name": "python3"
  },
  "language_info": {
   "codemirror_mode": {
    "name": "ipython",
    "version": 3
   },
   "file_extension": ".py",
   "mimetype": "text/x-python",
   "name": "python",
   "nbconvert_exporter": "python",
   "pygments_lexer": "ipython3",
   "version": "3.7.3"
  }
 },
 "nbformat": 4,
 "nbformat_minor": 2
}
