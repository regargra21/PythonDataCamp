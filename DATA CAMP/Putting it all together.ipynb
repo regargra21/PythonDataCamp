{
 "cells": [
  {
   "cell_type": "markdown",
   "metadata": {},
   "source": [
    "# Census Case Study\n",
    "\n",
    " - Prepare the SQLAlchemy and the database\n",
    "     1. Create and Engine and MetaData object\n",
    "     2. Create and save the census table \n",
    " - Loading Data into the Database\n",
    "     3. Load a CSV file into a values list\n",
    "     4. Insert the values list into the census table\n",
    " - Solving Data Science Problems with Queries"
   ]
  },
  {
   "cell_type": "code",
   "execution_count": 5,
   "metadata": {},
   "outputs": [],
   "source": [
    "# Here goes all the imports\n",
    "from sqlalchemy import create_engine, MetaData\n",
    "\n",
    "from sqlalchemy import (Table, Column, String, \n",
    "                        Integer, DECIMAL, Boolean)"
   ]
  },
  {
   "cell_type": "code",
   "execution_count": 3,
   "metadata": {},
   "outputs": [],
   "source": [
    "# Number 1\n",
    "engine = create_engine('sqlite:///census.sqlite')\n",
    "\n",
    "metadata = MetaData()"
   ]
  },
  {
   "cell_type": "code",
   "execution_count": 6,
   "metadata": {},
   "outputs": [],
   "source": [
    "# Number 2 \n",
    "employees = Table('employees', metadata,\n",
    "                 Column('id', Integer()),\n",
    "                 Column('name', String(255)),\n",
    "                 Column('salary', DECIMAL()),\n",
    "                 Column('active', Boolean())\n",
    "                 )\n",
    "\n",
    "metadata.create_all(engine)"
   ]
  },
  {
   "cell_type": "code",
   "execution_count": null,
   "metadata": {},
   "outputs": [],
   "source": []
  },
  {
   "cell_type": "code",
   "execution_count": 7,
   "metadata": {},
   "outputs": [],
   "source": [
    "# Import create_engine, MetaData\n",
    "from sqlalchemy import create_engine, MetaData\n",
    "\n",
    "# Define an engine to connect to chapter5.sqlite: engine\n",
    "engine = create_engine('sqlite:///chapter5.sqlite')\n",
    "\n",
    "# Initialize MetaData: metadata\n",
    "metadata = MetaData()"
   ]
  },
  {
   "cell_type": "code",
   "execution_count": 8,
   "metadata": {},
   "outputs": [],
   "source": [
    "# Import Table, Column, String, and Integer\n",
    "from sqlalchemy import (Table, Column, String, Integer)\n",
    "\n",
    "# Build a census table: census\n",
    "census = Table('census', metadata,\n",
    "               Column('state', String(30)),\n",
    "               Column('sex', String(1)),\n",
    "               Column('age', Integer()),\n",
    "               Column('pop2000', Integer()),\n",
    "               Column('pop2008', Integer()))\n",
    "\n",
    "# Create the table in the database\n",
    "metadata.create_all(engine)"
   ]
  },
  {
   "cell_type": "markdown",
   "metadata": {},
   "source": [
    "# Populating the Database"
   ]
  },
  {
   "cell_type": "code",
   "execution_count": 9,
   "metadata": {},
   "outputs": [
    {
     "ename": "NameError",
     "evalue": "name 'csv_reader' is not defined",
     "output_type": "error",
     "traceback": [
      "\u001b[1;31m---------------------------------------------------------------------------\u001b[0m",
      "\u001b[1;31mNameError\u001b[0m                                 Traceback (most recent call last)",
      "\u001b[1;32m<ipython-input-9-38585274cedb>\u001b[0m in \u001b[0;36m<module>\u001b[1;34m\u001b[0m\n\u001b[0;32m      2\u001b[0m \u001b[0mvalues_list\u001b[0m \u001b[1;33m=\u001b[0m \u001b[1;33m[\u001b[0m\u001b[1;33m]\u001b[0m\u001b[1;33m\u001b[0m\u001b[1;33m\u001b[0m\u001b[0m\n\u001b[0;32m      3\u001b[0m \u001b[1;33m\u001b[0m\u001b[0m\n\u001b[1;32m----> 4\u001b[1;33m \u001b[1;32mfor\u001b[0m \u001b[0mrow\u001b[0m \u001b[1;32min\u001b[0m \u001b[0mcsv_reader\u001b[0m\u001b[1;33m:\u001b[0m\u001b[1;33m\u001b[0m\u001b[1;33m\u001b[0m\u001b[0m\n\u001b[0m\u001b[0;32m      5\u001b[0m     data = {'state':row[0], 'sex':row[1],\n\u001b[0;32m      6\u001b[0m            \u001b[1;34m'age'\u001b[0m\u001b[1;33m:\u001b[0m\u001b[0mrow\u001b[0m\u001b[1;33m[\u001b[0m\u001b[1;36m2\u001b[0m\u001b[1;33m]\u001b[0m\u001b[1;33m,\u001b[0m \u001b[1;34m'pop2000'\u001b[0m\u001b[1;33m:\u001b[0m\u001b[0mrow\u001b[0m\u001b[1;33m[\u001b[0m\u001b[1;36m3\u001b[0m\u001b[1;33m]\u001b[0m\u001b[1;33m,\u001b[0m\u001b[1;33m\u001b[0m\u001b[1;33m\u001b[0m\u001b[0m\n",
      "\u001b[1;31mNameError\u001b[0m: name 'csv_reader' is not defined"
     ]
    }
   ],
   "source": [
    "# Number 3\n",
    "values_list = []\n",
    "\n",
    "for row in csv_reader:\n",
    "    data = {'state':row[0], 'sex':row[1],\n",
    "           'age':row[2], 'pop2000':row[3],\n",
    "           'pop2008':row[4]}\n",
    "    values_list.append(data)\n",
    "\n",
    "# Number 4\n",
    "from sqlalchemy import insert\n",
    "\n",
    "stmt = insert(employees)\n",
    "\n",
    "result_proxy = connection.execute(stmt, values_list)\n",
    "\n",
    "print(result_proxy.rowcount)"
   ]
  },
  {
   "cell_type": "markdown",
   "metadata": {},
   "source": [
    "# Querying the Database\n",
    "\n",
    "1. Determine Average Age for Males and Females"
   ]
  },
  {
   "cell_type": "code",
   "execution_count": 13,
   "metadata": {},
   "outputs": [],
   "source": [
    "from sqlalchemy import select, func\n",
    "\n",
    "engine = create_engine('sqlite:///census.sqlite')\n",
    "connection = engine.connect()\n",
    "\n",
    "stmt = select([census.columns.sex,\n",
    "              (func.sum(census.columns.pop2008 *\n",
    "                       census.columns.age) / \n",
    "              func.sum(census.columns.pop2008)\n",
    "              ).label('average_age')])\n",
    "\n",
    "stmt = stmt.group_by(census.columns.sex)\n",
    "\n",
    "results = connection.execute(stmt).fetchall()"
   ]
  },
  {
   "cell_type": "markdown",
   "metadata": {},
   "source": [
    "2. Determine the percentage of Females for each state"
   ]
  },
  {
   "cell_type": "code",
   "execution_count": 14,
   "metadata": {},
   "outputs": [],
   "source": [
    "from sqlalchemy import case, cast, Float\n",
    "\n",
    "stmt = select([\n",
    "    (func.sum(\n",
    "    case([\n",
    "        (census.columns.state == 'New York',\n",
    "        census.columns.pop2008)\n",
    "    ], else_=0)) / \n",
    "    cast(func.sum(census.columns.pop2008),\n",
    "        Float) * 100).label('my_percent')\n",
    "])"
   ]
  },
  {
   "cell_type": "markdown",
   "metadata": {},
   "source": [
    "3. Determine the top 5 states by population change from 2000 to 2008"
   ]
  },
  {
   "cell_type": "code",
   "execution_count": 15,
   "metadata": {},
   "outputs": [],
   "source": [
    "stmt = select([census.columns.age,\n",
    "              (census.columns.pop2008 - \n",
    "              census.columns.pop2000\n",
    "              ).label('pop_change')])\n",
    "\n",
    "stmt = stmt.order_by('pop_change')\n",
    "\n",
    "stmt = stmt.limit(5)"
   ]
  },
  {
   "cell_type": "code",
   "execution_count": null,
   "metadata": {},
   "outputs": [],
   "source": []
  },
  {
   "cell_type": "code",
   "execution_count": 18,
   "metadata": {},
   "outputs": [
    {
     "name": "stdout",
     "output_type": "stream",
     "text": [
      "F 37\n",
      "M 34\n"
     ]
    }
   ],
   "source": [
    "# Import select and func\n",
    "from sqlalchemy import select, func\n",
    "\n",
    "# Select the average of age weighted by pop2000\n",
    "stmt = select([func.sum(census.columns.pop2000 * census.columns.age) / func.sum(census.columns.pop2000)])\n",
    "\n",
    "# Relabel the new column as average_age\n",
    "stmt = select([(func.sum(census.columns.pop2000 * census.columns.age) \n",
    "                / func.sum(census.columns.pop2000)).label('average_age')\n",
    "              ])\n",
    "\n",
    "# Add the sex column to the select statement\n",
    "stmt = select([ census.columns.sex,\n",
    "                (func.sum(census.columns.pop2000 * census.columns.age) \n",
    "                 / func.sum(census.columns.pop2000)).label('average_age'),               \n",
    "              ])\n",
    "\n",
    "# Group by sex\n",
    "stmt = stmt.group_by(census.columns.sex)\n",
    "\n",
    "# Import select and func\n",
    "from sqlalchemy import select, func\n",
    "\n",
    "# Select sex and average age weighted by 2000 population\n",
    "stmt = select([(func.sum(census.columns.pop2000 * census.columns.age) \n",
    "                / func.sum(census.columns.pop2000)).label('average_age'),\n",
    "               census.columns.sex])\n",
    "\n",
    "# Group by sex\n",
    "stmt = stmt.group_by(census.columns.sex)\n",
    "\n",
    "# Execute the query and fetch all the results\n",
    "results = connection.execute(stmt).fetchall()\n",
    "\n",
    "# Print the sex and average age column for each result\n",
    "for result in results:\n",
    "    print(result.sex, result.average_age)"
   ]
  },
  {
   "cell_type": "code",
   "execution_count": 19,
   "metadata": {},
   "outputs": [
    {
     "name": "stdout",
     "output_type": "stream",
     "text": [
      "Alabama 51.832407770179465\n",
      "Alaska 49.301497893484594\n",
      "Arizona 50.22361303057914\n",
      "Arkansas 51.26992846221834\n",
      "California 50.35233214901979\n",
      "Colorado 49.84767060299562\n",
      "Connecticut 51.66816507130644\n",
      "Delaware 51.61109733558627\n",
      "District of Columbia 53.129626141738385\n",
      "Florida 51.36488001165242\n",
      "Georgia 51.11408350339436\n",
      "Hawaii 51.118011836915514\n",
      "Idaho 49.98972623903102\n",
      "Illinois 51.11224234802867\n",
      "Indiana 50.95480313297678\n",
      "Iowa 50.950398342534264\n",
      "Kansas 50.821864107754735\n",
      "Kentucky 51.32687036927168\n",
      "Louisiana 51.75351596554121\n",
      "Maine 51.50570813418951\n",
      "Maryland 51.93575549972231\n",
      "Massachusetts 51.843023571316785\n",
      "Michigan 50.97246518318712\n",
      "Minnesota 50.49332944301148\n",
      "Mississippi 51.92229481794672\n",
      "Missouri 51.46888602639692\n",
      "Montana 50.32202690728538\n",
      "Nebraska 50.8584549336086\n",
      "Nevada 49.36736361384359\n",
      "New Hampshire 50.858019844961746\n",
      "New Jersey 51.51713956125773\n",
      "New Mexico 51.0471720798335\n",
      "New York 51.83453865150073\n",
      "North Carolina 51.482262322084594\n",
      "North Dakota 50.50069363231332\n",
      "Ohio 51.46550350015544\n",
      "Oklahoma 51.11362457075227\n",
      "Oregon 50.4294670361772\n",
      "Pennsylvania 51.74043473051053\n",
      "Rhode Island 52.07343391902215\n",
      "South Carolina 51.73072129765755\n",
      "South Dakota 50.52583581373275\n",
      "Tennessee 51.430689699449275\n",
      "Texas 50.515721664207966\n",
      "Utah 49.97295275106927\n",
      "Vermont 51.018573209949466\n",
      "Virginia 51.657252447241795\n",
      "Washington 50.518565087218334\n",
      "West Virginia 51.40042318092286\n",
      "Wisconsin 50.61486452653393\n",
      "Wyoming 49.94595542648306\n"
     ]
    }
   ],
   "source": [
    "# import case, cast and Float from sqlalchemy\n",
    "from sqlalchemy import cast, Float, case\n",
    "\n",
    "# Build a query to calculate the percentage of women in 2000: stmt\n",
    "stmt = select([census.columns.state,\n",
    "    (func.sum(\n",
    "        case([\n",
    "            (census.columns.sex == 'F', census.columns.pop2000)\n",
    "        ], else_=0)) /\n",
    "     cast(func.sum(census.columns.pop2000), Float) * 100).label('percent_female')\n",
    "])\n",
    "\n",
    "# Group By state\n",
    "stmt = stmt.group_by(census.columns.state)\n",
    "\n",
    "# Execute the query and store the results: results\n",
    "results = connection.execute(stmt).fetchall()\n",
    "\n",
    "# Print the percentage\n",
    "for result in results:\n",
    "    print(result.state, result.percent_female)"
   ]
  },
  {
   "cell_type": "code",
   "execution_count": 21,
   "metadata": {},
   "outputs": [
    {
     "name": "stdout",
     "output_type": "stream",
     "text": [
      "Texas:40137\n",
      "California:35406\n",
      "Florida:21954\n",
      "Arizona:14377\n",
      "Georgia:13357\n",
      "North Carolina:11574\n",
      "Virginia:6639\n",
      "Colorado:6425\n",
      "Utah:5934\n",
      "Illinois:5412\n"
     ]
    }
   ],
   "source": [
    "# Import\n",
    "from sqlalchemy import desc\n",
    "\n",
    "# Build query to return state name and population difference from 2008 to 2000\n",
    "stmt = select([census.columns.state,\n",
    "     (census.columns.pop2008-census.columns.pop2000).label('pop_change')\n",
    "])\n",
    "\n",
    "# Group by State\n",
    "stmt = stmt.group_by(census.columns.state)\n",
    "\n",
    "# Order by Population Change\n",
    "stmt = stmt.order_by(desc('pop_change'))\n",
    "\n",
    "# Limit to top 10\n",
    "stmt = stmt.limit(10)\n",
    "\n",
    "# Use connection to execute the statement and fetch all results\n",
    "results = connection.execute(stmt).fetchall()\n",
    "\n",
    "# Print the state and population change for each record\n",
    "for result in results:\n",
    "    print('{}:{}'.format(result.state, result.pop_change))"
   ]
  },
  {
   "cell_type": "code",
   "execution_count": null,
   "metadata": {},
   "outputs": [],
   "source": []
  }
 ],
 "metadata": {
  "kernelspec": {
   "display_name": "Python 3",
   "language": "python",
   "name": "python3"
  },
  "language_info": {
   "codemirror_mode": {
    "name": "ipython",
    "version": 3
   },
   "file_extension": ".py",
   "mimetype": "text/x-python",
   "name": "python",
   "nbconvert_exporter": "python",
   "pygments_lexer": "ipython3",
   "version": "3.7.3"
  }
 },
 "nbformat": 4,
 "nbformat_minor": 2
}
